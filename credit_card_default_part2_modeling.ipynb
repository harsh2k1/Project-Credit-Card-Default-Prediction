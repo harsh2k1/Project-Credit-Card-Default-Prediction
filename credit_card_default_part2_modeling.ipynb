{
 "cells": [
  {
   "cell_type": "markdown",
   "metadata": {},
   "source": [
    "# Credit Card Default Analysis - Part 2 Modeling\n",
    "\n",
    "#### Default Payments of Credit Card Clients in Taiwan from 2005"
   ]
  },
  {
   "cell_type": "markdown",
   "metadata": {},
   "source": [
    "## Table of Contents\n",
    "- Import Packages\n",
    "- Load Data\n",
    "- Prepare for Modeling\n",
    "- Predicative Classification Modeling\n",
    "- Logistic Regression\n",
    "- Random Forest\n",
    "- XGBoost\n",
    "- ANN\n",
    "- Gaussian NB\n",
    "- Model Comparison\n",
    "- Conclusion"
   ]
  },
  {
   "cell_type": "markdown",
   "metadata": {},
   "source": [
    "## Import Packages"
   ]
  },
  {
   "cell_type": "code",
   "execution_count": 1,
   "metadata": {},
   "outputs": [],
   "source": [
    "import pandas as pd \n",
    "import numpy as np\n",
    "import matplotlib.pyplot as plt\n",
    "import seaborn as sns\n",
    "%matplotlib inline \n",
    "import warnings\n",
    "warnings.simplefilter(\"ignore\")\n",
    "from pprint import pprint\n",
    "import joblib\n",
    "import imblearn\n",
    "\n",
    "from sklearn.model_selection import KFold\n",
    "from sklearn.model_selection import RandomizedSearchCV\n",
    "from sklearn.model_selection import GridSearchCV\n",
    "from sklearn.model_selection import train_test_split\n",
    "from sklearn.model_selection import StratifiedShuffleSplit\n",
    "from sklearn.model_selection import cross_val_score\n",
    "from sklearn.model_selection import cross_validate\n",
    "\n",
    "from sklearn.preprocessing import StandardScaler\n",
    "from sklearn.pipeline import make_pipeline\n",
    "from sklearn.pipeline import Pipeline\n",
    "\n",
    "from sklearn import metrics  \n",
    "from sklearn.metrics import roc_auc_score\n",
    "from sklearn.metrics import confusion_matrix\n",
    "from sklearn.metrics import plot_confusion_matrix\n",
    "from sklearn.metrics import classification_report\n",
    "from sklearn.metrics import plot_roc_curve\n",
    "from sklearn.metrics import precision_recall_curve\n",
    "from sklearn.metrics import plot_precision_recall_curve\n",
    "from sklearn.metrics import roc_curve\n",
    "from sklearn.metrics import roc_auc_score\n",
    "\n",
    "from sklearn.linear_model import LogisticRegression\n",
    "from sklearn.ensemble import RandomForestClassifier\n",
    "import xgboost as xgb\n",
    "from xgboost import XGBClassifier\n",
    "\n",
    "from tensorflow import keras\n",
    "from tensorflow.keras.models import Sequential\n",
    "from tensorflow.keras.layers import Dense\n",
    "\n",
    "from sklearn.naive_bayes import GaussianNB"
   ]
  },
  {
   "cell_type": "markdown",
   "metadata": {},
   "source": [
    "## Load Data"
   ]
  },
  {
   "cell_type": "code",
   "execution_count": 2,
   "metadata": {},
   "outputs": [
    {
     "data": {
      "text/plain": [
       "Index(['ID', 'LIMIT_BAL', 'SEX', 'EDUCATION', 'MARRIAGE', 'AGE', 'PAY_1',\n",
       "       'PAY_2', 'PAY_3', 'PAY_4', 'PAY_5', 'PAY_6', 'BILL_AMT1', 'BILL_AMT2',\n",
       "       'BILL_AMT3', 'BILL_AMT4', 'BILL_AMT5', 'BILL_AMT6', 'PAY_AMT1',\n",
       "       'PAY_AMT2', 'PAY_AMT3', 'PAY_AMT4', 'PAY_AMT5', 'PAY_AMT6',\n",
       "       'DEF_PAY_NMO'],\n",
       "      dtype='object')"
      ]
     },
     "execution_count": 2,
     "metadata": {},
     "output_type": "execute_result"
    }
   ],
   "source": [
    "data = pd.read_csv(\"UCI_Credit_Card_Processed.csv\")\n",
    "data.columns"
   ]
  },
  {
   "cell_type": "markdown",
   "metadata": {},
   "source": [
    "## Prepare for Modeling"
   ]
  },
  {
   "cell_type": "markdown",
   "metadata": {},
   "source": [
    "### 1. Feature Engineering"
   ]
  },
  {
   "cell_type": "code",
   "execution_count": 3,
   "metadata": {},
   "outputs": [],
   "source": [
    "# Bin ‘AGE’ data to 6 groups\n",
    "bins= [21,30,40,50,60,70,80]\n",
    "labels = list(range(6))\n",
    "data['AGE'] = pd.cut(data['AGE'],bins=bins, labels=labels,right=False)\n",
    "\n",
    "# Covert categorical column into integer by extracting the code of the categories\n",
    "data.AGE = data.AGE.cat.codes"
   ]
  },
  {
   "cell_type": "markdown",
   "metadata": {},
   "source": [
    "### 2. Feature Selection"
   ]
  },
  {
   "cell_type": "code",
   "execution_count": 4,
   "metadata": {},
   "outputs": [],
   "source": [
    "# Define predictor variables and target variable\n",
    "X = data.drop(columns=['ID','DEF_PAY_NMO'])\n",
    "y = data['DEF_PAY_NMO']\n",
    "\n",
    "# Save all feature names as list\n",
    "feature_cols = X.columns.tolist() \n",
    "\n",
    "# Extract numerical columns and save as a list for rescaling\n",
    "X_num = X.drop(columns=['SEX', 'EDUCATION', 'MARRIAGE', 'AGE'])\n",
    "num_cols = X_num.columns.tolist()   "
   ]
  },
  {
   "cell_type": "markdown",
   "metadata": {},
   "source": [
    "### 3. Check Class Imbalance"
   ]
  },
  {
   "cell_type": "code",
   "execution_count": 5,
   "metadata": {},
   "outputs": [
    {
     "name": "stdout",
     "output_type": "stream",
     "text": [
      "0    0.7788\n",
      "1    0.2212\n",
      "Name: DEF_PAY_NMO, dtype: float64\n"
     ]
    },
    {
     "data": {
      "image/png": "[encoded data removed]",
      "text/plain": [
       "<Figure size 432x288 with 1 Axes>"
      ]
     },
     "metadata": {
      "needs_background": "light"
     },
     "output_type": "display_data"
    }
   ],
   "source": [
    "# Check target classes balancec\n",
    "cla_bal = data['DEF_PAY_NMO'].value_counts(normalize=True)\n",
    "print(cla_bal)\n",
    "\n",
    "# Plot the classes\n",
    "cla_bal.plot(kind = 'bar')\n",
    "plt.title('Nondefault(0) and default(1) comparison',fontweight = \"bold\")\n",
    "plt.xlabel('Classes')\n",
    "plt.ylabel('Percentage')\n",
    "plt.show()"
   ]
  },
  {
   "cell_type": "markdown",
   "metadata": {},
   "source": [
    "With typical default classification problems, we expect imbalanced classes as we know most people will not default. This dataset is also imbalanced, with 78% non-default vs. 22% default. "
   ]
  },
  {
   "cell_type": "markdown",
   "metadata": {},
   "source": [
    "### 4. Split Training and Test Data"
   ]
  },
  {
   "cell_type": "code",
   "execution_count": 6,
   "metadata": {},
   "outputs": [],
   "source": [
    "# Define function to split data with and without SMOTE \n",
    "\n",
    "def data_split(X, y, imbalance = False):\n",
    "    # split data \n",
    "    X_train, X_test, y_train, y_test = train_test_split(X, y, test_size=0.3,shuffle=True, stratify=y, random_state=42)\n",
    "    \n",
    "    if imbalance:\n",
    "        # use SMOTE to over sample data\n",
    "        from imblearn.over_sampling import SMOTE\n",
    "        sm = SMOTE(random_state = 42)\n",
    "        X_train, y_train = sm.fit_resample(X_train, y_train.ravel())\n",
    "    \n",
    "    return X_train, X_test, y_train, y_test"
   ]
  },
  {
   "cell_type": "markdown",
   "metadata": {},
   "source": [
    "### 5. Rescale Features"
   ]
  },
  {
   "cell_type": "code",
   "execution_count": 7,
   "metadata": {},
   "outputs": [],
   "source": [
    "# Define function to rescale training data using StandardScaler\n",
    "\n",
    "def standard_scaler(X_train, X_test, numerical_cols):\n",
    "    \n",
    "    # Make copies of dataset\n",
    "    X_train_std = X_train.copy()\n",
    "    X_test_std = X_test.copy()\n",
    "    \n",
    "    # Apply standardization on numerical features only\n",
    "    for i in numerical_cols:\n",
    "        scl = StandardScaler().fit(X_train_std[[i]])     # fit on training data columns\n",
    "        X_train_std[i] = scl.transform(X_train_std[[i]]) # transform the training data columns\n",
    "        X_test_std[i] = scl.transform(X_test_std[[i]])   # transform the testing data columns\n",
    "    \n",
    "    return X_train_std,X_test_std"
   ]
  },
  {
   "cell_type": "markdown",
   "metadata": {},
   "source": [
    "## Classification Predictive Modeling"
   ]
  },
  {
   "cell_type": "markdown",
   "metadata": {},
   "source": [
    "### 1. Logistic Regression"
   ]
  },
  {
   "cell_type": "markdown",
   "metadata": {},
   "source": [
    "Rescaling the features variables then run Logistic Regression with and without SMOTE sampling to compare ROC_AUC scores."
   ]
  },
  {
   "cell_type": "code",
   "execution_count": 8,
   "metadata": {},
   "outputs": [
    {
     "data": {
      "text/html": [
       "<div>\n",
       "<style scoped>\n",
       "    .dataframe tbody tr th:only-of-type {\n",
       "        vertical-align: middle;\n",
       "    }\n",
       "\n",
       "    .dataframe tbody tr th {\n",
       "        vertical-align: top;\n",
       "    }\n",
       "\n",
       "    .dataframe thead th {\n",
       "        text-align: right;\n",
       "    }\n",
       "</style>\n",
       "<table border=\"1\" class=\"dataframe\">\n",
       "  <thead>\n",
       "    <tr style=\"text-align: right;\">\n",
       "      <th></th>\n",
       "      <th>Model</th>\n",
       "      <th>SMOTE</th>\n",
       "      <th>ROC_AUC Score</th>\n",
       "    </tr>\n",
       "  </thead>\n",
       "  <tbody>\n",
       "    <tr>\n",
       "      <th>0</th>\n",
       "      <td>Logistic Regression</td>\n",
       "      <td>Without SMOTE</td>\n",
       "      <td>0.725559</td>\n",
       "    </tr>\n",
       "    <tr>\n",
       "      <th>1</th>\n",
       "      <td>Logistic Regression</td>\n",
       "      <td>With SMOTE</td>\n",
       "      <td>0.797031</td>\n",
       "    </tr>\n",
       "  </tbody>\n",
       "</table>\n",
       "</div>"
      ],
      "text/plain": [
       "                 Model          SMOTE  ROC_AUC Score\n",
       "0  Logistic Regression  Without SMOTE       0.725559\n",
       "1  Logistic Regression     With SMOTE       0.797031"
      ]
     },
     "execution_count": 8,
     "metadata": {},
     "output_type": "execute_result"
    }
   ],
   "source": [
    "def run_logistic_regression(imbalance=False):\n",
    "    # Split data  \n",
    "    X_train, X_test, y_train, y_test = data_split(X, y, imbalance = imbalance)\n",
    "\n",
    "    # Rescale data\n",
    "    X_train_std, X_test_std = standard_scaler(X_train, X_test, numerical_cols = num_cols)\n",
    "    \n",
    "    # Instantiate model\n",
    "    clf_lr = LogisticRegression(random_state=42)\n",
    "    \n",
    "    # Fit the model\n",
    "    clf_lr.fit(X_train_std, y_train)\n",
    "\n",
    "    # Use model's default parameters to get cross validation score\n",
    "    scores = cross_val_score(clf_lr, X_train_std, y_train, scoring =\"roc_auc\", cv = 5)\n",
    "    roc_auc_lr = np.mean(scores)\n",
    "    \n",
    "    if imbalance:\n",
    "        return \"Logistic Regression\", \"With SMOTE\", roc_auc_lr\n",
    "    else:\n",
    "        return \"Logistic Regression\", \"Without SMOTE\", roc_auc_lr\n",
    "\n",
    "model_result = []\n",
    "model_result.append(run_logistic_regression())\n",
    "model_result.append(run_logistic_regression(imbalance=True))\n",
    "\n",
    "pd.DataFrame(model_result, columns = [\"Model\", \"SMOTE\", \"ROC_AUC Score\"])"
   ]
  },
  {
   "cell_type": "markdown",
   "metadata": {},
   "source": [
    "Since SMOTE sampling yields a much better ROC_AUC score on training data, we will use SMOTE while tuning the model."
   ]
  },
  {
   "cell_type": "markdown",
   "metadata": {},
   "source": [
    "#### Tune Parameters of Logistic Regression"
   ]
  },
  {
   "cell_type": "code",
   "execution_count": 9,
   "metadata": {},
   "outputs": [
    {
     "name": "stdout",
     "output_type": "stream",
     "text": [
      "[0 0 0 0 0]\n",
      "{'C': 0.23233444867279784, 'penalty': 'l1'}\n"
     ]
    }
   ],
   "source": [
    "# Randomized search for the best C parameter\n",
    "\n",
    "from sklearn.model_selection import RandomizedSearchCV\n",
    "from scipy.stats import uniform\n",
    "\n",
    "# Split data with SMOTE \n",
    "X_train, X_test, y_train, y_test = data_split(X, y, imbalance = True) \n",
    "\n",
    "# Rescale data\n",
    "X_train_std, X_test_std = standard_scaler(X_train, X_test, numerical_cols = num_cols)\n",
    "\n",
    "logistic = LogisticRegression(solver='saga', tol=1e-2, max_iter=200,random_state=42)\n",
    "distributions = dict(C=uniform(loc=0, scale=4), penalty=['l2', 'l1'])\n",
    "clf = RandomizedSearchCV(logistic, distributions, random_state=42)\n",
    "\n",
    "lr_best= clf.fit(X_train_std, y_train)\n",
    "y_pred_lr = lr_best.predict(X_test)\n",
    "print(y_pred_lr[:5])\n",
    "\n",
    "print(lr_best.best_params_)"
   ]
  },
  {
   "cell_type": "code",
   "execution_count": 10,
   "metadata": {},
   "outputs": [],
   "source": [
    "# Save tuned model and parameters\n",
    "\n",
    "# joblib.dump(lr_best,\"logreg_sm_tuned.pkl\") "
   ]
  },
  {
   "cell_type": "code",
   "execution_count": 11,
   "metadata": {},
   "outputs": [],
   "source": [
    "#lr_best = joblib.load(\"logreg_sm_tuned.pkl\")"
   ]
  },
  {
   "cell_type": "code",
   "execution_count": 12,
   "metadata": {},
   "outputs": [
    {
     "name": "stdout",
     "output_type": "stream",
     "text": [
      "ROC_AUC score after tuning parameters:0.792\n"
     ]
    }
   ],
   "source": [
    "# Get ROC_AUC score of tuned model on training data\n",
    "\n",
    "scores_tuned = cross_val_score(lr_best, X_train_std, y_train, scoring = \"roc_auc\", cv = 5)\n",
    "roc_auc_lr_best = np.mean(scores_tuned)\n",
    "\n",
    "print(f'ROC_AUC score after tuning parameters:{roc_auc_lr_best:.3f}')"
   ]
  },
  {
   "cell_type": "code",
   "execution_count": 13,
   "metadata": {},
   "outputs": [],
   "source": [
    "# Save best ROC_AUC \n",
    "\n",
    "# joblib.dump(roc_auc_lr_best,\"logreg_ROC_AUC_CV.pkl\") "
   ]
  },
  {
   "cell_type": "code",
   "execution_count": 14,
   "metadata": {},
   "outputs": [],
   "source": [
    "# roc_auc_lr_best = joblib.load(\"logreg_ROC_AUC_CV.pkl\")\n",
    "# roc_auc_lr_best"
   ]
  },
  {
   "cell_type": "markdown",
   "metadata": {},
   "source": [
    "After fine-tuning parameter C, Logistic Regression model got ROC_AUC training score as 0.792, slightly decreased from original score 0.797. This could mean model is less overfitting the training data."
   ]
  },
  {
   "cell_type": "markdown",
   "metadata": {},
   "source": [
    "#### Logistic Regression Model Evaluation"
   ]
  },
  {
   "cell_type": "markdown",
   "metadata": {},
   "source": [
    "#### Precision_Recall and F1 Score"
   ]
  },
  {
   "cell_type": "code",
   "execution_count": 15,
   "metadata": {},
   "outputs": [],
   "source": [
    "# Define a function to compute Precision, Recall and F1 score\n",
    "\n",
    "def get_pre_rec_f1(model,X_test,y_test):\n",
    "    y_pred = model.predict(X_test)\n",
    "    tp, fp, fn, tn = confusion_matrix(y_test, y_pred).ravel()\n",
    "    \n",
    "    precision = tp / (tp + fp)\n",
    "    recall = tp / (tp + fn)\n",
    "    F1 = 2 * (precision * recall) / (precision + recall)\n",
    "    \n",
    "    print(f'Precision:{precision:.3f}\\nRecall:{recall:.3f}\\nF1 score:{F1:.3f}')"
   ]
  },
  {
   "cell_type": "code",
   "execution_count": 16,
   "metadata": {},
   "outputs": [
    {
     "name": "stdout",
     "output_type": "stream",
     "text": [
      "Logistic Regression model on test data:\n",
      "Precision:0.743\n",
      "Recall:0.857\n",
      "F1 score:0.796\n"
     ]
    }
   ],
   "source": [
    "# Calculate precision and recall of Logistic Regression model\n",
    "\n",
    "print('Logistic Regression model on test data:')\n",
    "get_pre_rec_f1(lr_best, X_test_std, y_test)"
   ]
  },
  {
   "cell_type": "markdown",
   "metadata": {},
   "source": [
    "#### Model Performance:\n",
    "The business nature of credit card default analysis requires model to have a high recall. Logstic Regression model has a recall as 0.566. Let's look at another model - Random Forest to see if we can get a better recall."
   ]
  },
  {
   "cell_type": "markdown",
   "metadata": {},
   "source": [
    "### 2. Random Forest"
   ]
  },
  {
   "cell_type": "markdown",
   "metadata": {},
   "source": [
    "Tree based model does not need feature to be rescaled, so we will skip rescaling step."
   ]
  },
  {
   "cell_type": "code",
   "execution_count": 17,
   "metadata": {},
   "outputs": [
    {
     "data": {
      "text/html": [
       "<div>\n",
       "<style scoped>\n",
       "    .dataframe tbody tr th:only-of-type {\n",
       "        vertical-align: middle;\n",
       "    }\n",
       "\n",
       "    .dataframe tbody tr th {\n",
       "        vertical-align: top;\n",
       "    }\n",
       "\n",
       "    .dataframe thead th {\n",
       "        text-align: right;\n",
       "    }\n",
       "</style>\n",
       "<table border=\"1\" class=\"dataframe\">\n",
       "  <thead>\n",
       "    <tr style=\"text-align: right;\">\n",
       "      <th></th>\n",
       "      <th>Model</th>\n",
       "      <th>SMOTE</th>\n",
       "      <th>ROC_AUC Score</th>\n",
       "    </tr>\n",
       "  </thead>\n",
       "  <tbody>\n",
       "    <tr>\n",
       "      <th>0</th>\n",
       "      <td>Random Forest</td>\n",
       "      <td>Without SMOTE</td>\n",
       "      <td>0.763029</td>\n",
       "    </tr>\n",
       "    <tr>\n",
       "      <th>1</th>\n",
       "      <td>Random Forest</td>\n",
       "      <td>With SMOTE</td>\n",
       "      <td>0.915933</td>\n",
       "    </tr>\n",
       "  </tbody>\n",
       "</table>\n",
       "</div>"
      ],
      "text/plain": [
       "           Model          SMOTE  ROC_AUC Score\n",
       "0  Random Forest  Without SMOTE       0.763029\n",
       "1  Random Forest     With SMOTE       0.915933"
      ]
     },
     "execution_count": 17,
     "metadata": {},
     "output_type": "execute_result"
    }
   ],
   "source": [
    "def run_random_forest(imbalance=False):\n",
    "    # Split data  \n",
    "    X_train, X_test, y_train, y_test = data_split(X, y, imbalance = imbalance)\n",
    "    \n",
    "    # Instantiate model\n",
    "    clf_rf = RandomForestClassifier()\n",
    "   \n",
    "    # Fit the model\n",
    "    clf_rf.fit(X_train, y_train)\n",
    "\n",
    "    # Use model's default parameters to get cross validation score\n",
    "    scores = cross_val_score(clf_rf, X_train, y_train, scoring =\"roc_auc\", cv = 5)\n",
    "    roc_auc_rf = np.mean(scores)\n",
    "    \n",
    "    if imbalance:\n",
    "        return \"Random Forest\", \"With SMOTE\", roc_auc_rf\n",
    "    else:\n",
    "        return \"Random Forest\", \"Without SMOTE\", roc_auc_rf\n",
    "\n",
    "model_result = []\n",
    "model_result.append(run_random_forest())\n",
    "model_result.append(run_random_forest(imbalance=True))\n",
    "\n",
    "pd.DataFrame(model_result, columns = [\"Model\", \"SMOTE\", \"ROC_AUC Score\"])"
   ]
  },
  {
   "cell_type": "markdown",
   "metadata": {},
   "source": [
    "Again, SMOTE sampling has a better performance. With the default parameters, Random Forest model generated ROC-AUC score 0.916 on training data, which is better than Logistic Regression model. Next, we will try to fine tune the hyperparameters with SMOTE sampling."
   ]
  },
  {
   "cell_type": "markdown",
   "metadata": {},
   "source": [
    "#### Tune Parameters of Random Forest"
   ]
  },
  {
   "cell_type": "code",
   "execution_count": 18,
   "metadata": {},
   "outputs": [],
   "source": [
    "# Split data with SMOTE\n",
    "X_train_sm, X_test, y_train_sm, y_test = data_split(X, y, imbalance = True)"
   ]
  },
  {
   "cell_type": "code",
   "execution_count": 19,
   "metadata": {},
   "outputs": [
    {
     "name": "stdout",
     "output_type": "stream",
     "text": [
      "Fitting 3 folds for each of 81 candidates, totalling 243 fits\n"
     ]
    },
    {
     "data": {
      "text/plain": [
       "{'max_depth': 90,\n",
       " 'min_samples_leaf': 3,\n",
       " 'min_samples_split': 8,\n",
       " 'n_estimators': 200}"
      ]
     },
     "execution_count": 19,
     "metadata": {},
     "output_type": "execute_result"
    }
   ],
   "source": [
    "# Create parameter grid  \n",
    "param_grid = {\n",
    "    'max_depth': [60, 90, 110],\n",
    "    'min_samples_leaf': [3, 4, 5],\n",
    "    'min_samples_split': [8, 10, 12],\n",
    "    'n_estimators': [100, 200, 300]\n",
    "}\n",
    "\n",
    "# Instantiate the model\n",
    "clf_rf = RandomForestClassifier()\n",
    "\n",
    "# Instantiate grid search model\n",
    "grid_search = GridSearchCV(estimator = clf_rf, param_grid = param_grid,    \n",
    "                          cv = 3, n_jobs = -1, verbose = 1)\n",
    "\n",
    "# Fit grid search to the data\n",
    "grid_search.fit(X_train_sm, y_train_sm)\n",
    "grid_search.best_params_"
   ]
  },
  {
   "cell_type": "code",
   "execution_count": 20,
   "metadata": {},
   "outputs": [],
   "source": [
    "# Save tuned model\n",
    "\n",
    "# joblib.dump(grid_search,\"RandomForest_tuned_final.pkl\")"
   ]
  },
  {
   "cell_type": "code",
   "execution_count": 21,
   "metadata": {},
   "outputs": [],
   "source": [
    "#grid_search = joblib.load(\"RandomForest_tuned_final.pkl\")"
   ]
  },
  {
   "cell_type": "code",
   "execution_count": 22,
   "metadata": {},
   "outputs": [
    {
     "name": "stdout",
     "output_type": "stream",
     "text": [
      "ROC_AUC training score after tuning for Random Forest: 0.906\n"
     ]
    }
   ],
   "source": [
    "# Use the best parameters to fit the model\n",
    "\n",
    "rf_best = RandomForestClassifier(**grid_search.best_params_)   \n",
    "rf_best.fit(X_train_sm,y_train_sm)\n",
    "\n",
    "scores_best = cross_val_score(rf_best, X_train_sm, y_train_sm, scoring =\"roc_auc\", cv = 5)\n",
    "roc_auc_best = np.mean(scores_best)\n",
    "\n",
    "print(f'ROC_AUC training score after tuning for Random Forest: {roc_auc_best:.3f}')"
   ]
  },
  {
   "cell_type": "markdown",
   "metadata": {},
   "source": [
    "After tuning parameters, Random Forest model's ROC-AUC score decreased slightly to 0.906."
   ]
  },
  {
   "cell_type": "markdown",
   "metadata": {},
   "source": [
    "#### Random Forest Model Evaluation"
   ]
  },
  {
   "cell_type": "markdown",
   "metadata": {},
   "source": [
    "#### Precision_Recall and F1 Score"
   ]
  },
  {
   "cell_type": "code",
   "execution_count": 23,
   "metadata": {},
   "outputs": [
    {
     "name": "stdout",
     "output_type": "stream",
     "text": [
      "Random Forest model on test data:\n",
      "Precision:0.864\n",
      "Recall:0.862\n",
      "F1 score:0.863\n"
     ]
    }
   ],
   "source": [
    "# Compute precision, recall and F1 score of Random Forest model on test data\n",
    "\n",
    "print('Random Forest model on test data:')\n",
    "get_pre_rec_f1(rf_best, X_test, y_test)"
   ]
  },
  {
   "cell_type": "markdown",
   "metadata": {},
   "source": [
    "#### Model Performance:\n",
    "\n",
    "Random Forest has recall rate as 0.515 and F1 score as 0.513. Now we will try another model XGBoost."
   ]
  },
  {
   "cell_type": "markdown",
   "metadata": {},
   "source": [
    "### 3. XGBoost"
   ]
  },
  {
   "cell_type": "code",
   "execution_count": 24,
   "metadata": {},
   "outputs": [
    {
     "name": "stdout",
     "output_type": "stream",
     "text": [
      "[14:36:52] WARNING: C:/Users/Administrator/workspace/xgboost-win64_release_1.4.0/src/learner.cc:1095: Starting in XGBoost 1.3.0, the default evaluation metric used with the objective 'binary:logistic' was changed from 'error' to 'logloss'. Explicitly set eval_metric if you'd like to restore the old behavior.\n",
      "[14:36:55] WARNING: C:/Users/Administrator/workspace/xgboost-win64_release_1.4.0/src/learner.cc:1095: Starting in XGBoost 1.3.0, the default evaluation metric used with the objective 'binary:logistic' was changed from 'error' to 'logloss'. Explicitly set eval_metric if you'd like to restore the old behavior.\n",
      "[14:36:56] WARNING: C:/Users/Administrator/workspace/xgboost-win64_release_1.4.0/src/learner.cc:1095: Starting in XGBoost 1.3.0, the default evaluation metric used with the objective 'binary:logistic' was changed from 'error' to 'logloss'. Explicitly set eval_metric if you'd like to restore the old behavior.\n",
      "[14:36:58] WARNING: C:/Users/Administrator/workspace/xgboost-win64_release_1.4.0/src/learner.cc:1095: Starting in XGBoost 1.3.0, the default evaluation metric used with the objective 'binary:logistic' was changed from 'error' to 'logloss'. Explicitly set eval_metric if you'd like to restore the old behavior.\n",
      "[14:36:59] WARNING: C:/Users/Administrator/workspace/xgboost-win64_release_1.4.0/src/learner.cc:1095: Starting in XGBoost 1.3.0, the default evaluation metric used with the objective 'binary:logistic' was changed from 'error' to 'logloss'. Explicitly set eval_metric if you'd like to restore the old behavior.\n",
      "[14:37:01] WARNING: C:/Users/Administrator/workspace/xgboost-win64_release_1.4.0/src/learner.cc:1095: Starting in XGBoost 1.3.0, the default evaluation metric used with the objective 'binary:logistic' was changed from 'error' to 'logloss'. Explicitly set eval_metric if you'd like to restore the old behavior.\n",
      "[14:37:03] WARNING: C:/Users/Administrator/workspace/xgboost-win64_release_1.4.0/src/learner.cc:1095: Starting in XGBoost 1.3.0, the default evaluation metric used with the objective 'binary:logistic' was changed from 'error' to 'logloss'. Explicitly set eval_metric if you'd like to restore the old behavior.\n",
      "[14:37:06] WARNING: C:/Users/Administrator/workspace/xgboost-win64_release_1.4.0/src/learner.cc:1095: Starting in XGBoost 1.3.0, the default evaluation metric used with the objective 'binary:logistic' was changed from 'error' to 'logloss'. Explicitly set eval_metric if you'd like to restore the old behavior.\n",
      "[14:37:09] WARNING: C:/Users/Administrator/workspace/xgboost-win64_release_1.4.0/src/learner.cc:1095: Starting in XGBoost 1.3.0, the default evaluation metric used with the objective 'binary:logistic' was changed from 'error' to 'logloss'. Explicitly set eval_metric if you'd like to restore the old behavior.\n",
      "[14:37:12] WARNING: C:/Users/Administrator/workspace/xgboost-win64_release_1.4.0/src/learner.cc:1095: Starting in XGBoost 1.3.0, the default evaluation metric used with the objective 'binary:logistic' was changed from 'error' to 'logloss'. Explicitly set eval_metric if you'd like to restore the old behavior.\n",
      "[14:37:14] WARNING: C:/Users/Administrator/workspace/xgboost-win64_release_1.4.0/src/learner.cc:1095: Starting in XGBoost 1.3.0, the default evaluation metric used with the objective 'binary:logistic' was changed from 'error' to 'logloss'. Explicitly set eval_metric if you'd like to restore the old behavior.\n",
      "[14:37:17] WARNING: C:/Users/Administrator/workspace/xgboost-win64_release_1.4.0/src/learner.cc:1095: Starting in XGBoost 1.3.0, the default evaluation metric used with the objective 'binary:logistic' was changed from 'error' to 'logloss'. Explicitly set eval_metric if you'd like to restore the old behavior.\n"
     ]
    },
    {
     "data": {
      "text/html": [
       "<div>\n",
       "<style scoped>\n",
       "    .dataframe tbody tr th:only-of-type {\n",
       "        vertical-align: middle;\n",
       "    }\n",
       "\n",
       "    .dataframe tbody tr th {\n",
       "        vertical-align: top;\n",
       "    }\n",
       "\n",
       "    .dataframe thead th {\n",
       "        text-align: right;\n",
       "    }\n",
       "</style>\n",
       "<table border=\"1\" class=\"dataframe\">\n",
       "  <thead>\n",
       "    <tr style=\"text-align: right;\">\n",
       "      <th></th>\n",
       "      <th>Model</th>\n",
       "      <th>SMOTE</th>\n",
       "      <th>ROC_AUC Score</th>\n",
       "    </tr>\n",
       "  </thead>\n",
       "  <tbody>\n",
       "    <tr>\n",
       "      <th>0</th>\n",
       "      <td>XGBoost</td>\n",
       "      <td>Without SMOTE</td>\n",
       "      <td>0.762320</td>\n",
       "    </tr>\n",
       "    <tr>\n",
       "      <th>1</th>\n",
       "      <td>XGBoost</td>\n",
       "      <td>With SMOTE</td>\n",
       "      <td>0.900779</td>\n",
       "    </tr>\n",
       "  </tbody>\n",
       "</table>\n",
       "</div>"
      ],
      "text/plain": [
       "     Model          SMOTE  ROC_AUC Score\n",
       "0  XGBoost  Without SMOTE       0.762320\n",
       "1  XGBoost     With SMOTE       0.900779"
      ]
     },
     "execution_count": 24,
     "metadata": {},
     "output_type": "execute_result"
    }
   ],
   "source": [
    "def run_xgboost(imbalance=False):\n",
    "    # Split data  \n",
    "    X_train, X_test, y_train, y_test = data_split(X, y, imbalance = imbalance)\n",
    "    \n",
    "    # Instantiate model with default parameters\n",
    "    clf_xgb = XGBClassifier()\n",
    "    \n",
    "    # Fit the model\n",
    "    clf_xgb.fit(X_train, y_train)\n",
    "\n",
    "    # Use model's default parameters to get cross validation score\n",
    "    scores = cross_val_score(clf_xgb, X_train, y_train, scoring =\"roc_auc\", cv = 5)\n",
    "    roc_auc_xgb = np.mean(scores)\n",
    "    \n",
    "    if imbalance:\n",
    "        return \"XGBoost\", \"With SMOTE\", roc_auc_xgb\n",
    "    else:\n",
    "        return \"XGBoost\", \"Without SMOTE\", roc_auc_xgb\n",
    "\n",
    "    \n",
    "model_result = []\n",
    "model_result.append(run_xgboost())                  \n",
    "model_result.append(run_xgboost(imbalance=True))    \n",
    "\n",
    "pd.DataFrame(model_result, columns = [\"Model\", \"SMOTE\", \"ROC_AUC Score\"])"
   ]
  },
  {
   "cell_type": "markdown",
   "metadata": {},
   "source": [
    "Since SMOTE sampling performed better on training data, we will use SMOTE sampling and initial best guess parameters to fit the model."
   ]
  },
  {
   "cell_type": "code",
   "execution_count": 25,
   "metadata": {},
   "outputs": [],
   "source": [
    "# Sampling and split data with SMOTE\n",
    "X_train_sm, X_test, y_train_sm, y_test = data_split(X, y, imbalance = True)"
   ]
  },
  {
   "cell_type": "code",
   "execution_count": 26,
   "metadata": {},
   "outputs": [
    {
     "name": "stdout",
     "output_type": "stream",
     "text": [
      "[14:37:20] WARNING: C:/Users/Administrator/workspace/xgboost-win64_release_1.4.0/src/learner.cc:1095: Starting in XGBoost 1.3.0, the default evaluation metric used with the objective 'binary:logistic' was changed from 'error' to 'logloss'. Explicitly set eval_metric if you'd like to restore the old behavior.\n",
      "[14:37:31] WARNING: C:/Users/Administrator/workspace/xgboost-win64_release_1.4.0/src/learner.cc:1095: Starting in XGBoost 1.3.0, the default evaluation metric used with the objective 'binary:logistic' was changed from 'error' to 'logloss'. Explicitly set eval_metric if you'd like to restore the old behavior.\n",
      "[14:37:41] WARNING: C:/Users/Administrator/workspace/xgboost-win64_release_1.4.0/src/learner.cc:1095: Starting in XGBoost 1.3.0, the default evaluation metric used with the objective 'binary:logistic' was changed from 'error' to 'logloss'. Explicitly set eval_metric if you'd like to restore the old behavior.\n",
      "[14:37:52] WARNING: C:/Users/Administrator/workspace/xgboost-win64_release_1.4.0/src/learner.cc:1095: Starting in XGBoost 1.3.0, the default evaluation metric used with the objective 'binary:logistic' was changed from 'error' to 'logloss'. Explicitly set eval_metric if you'd like to restore the old behavior.\n",
      "[14:38:02] WARNING: C:/Users/Administrator/workspace/xgboost-win64_release_1.4.0/src/learner.cc:1095: Starting in XGBoost 1.3.0, the default evaluation metric used with the objective 'binary:logistic' was changed from 'error' to 'logloss'. Explicitly set eval_metric if you'd like to restore the old behavior.\n",
      "ROC_AUC training score with initial best parameters for XGBoost: 0.855\n"
     ]
    }
   ],
   "source": [
    "# Instantiate models with initial best guess parameters\n",
    "\n",
    "params = { \n",
    "    'gamma':0,\n",
    "    'learning_rate':0.01, \n",
    "    'max_depth':3, \n",
    "    'colsample_bytree':0.6,\n",
    "    'subsample':0.8,\n",
    "    'scale_pos_weight':3.5,\n",
    "    'n_estimators':1000,\n",
    "    'objective':'binary:logistic', \n",
    "    'reg_alpha':0.3    \n",
    "}\n",
    "    \n",
    "# Instantiate model\n",
    "clf_xgb = XGBClassifier(**params)\n",
    "\n",
    "# Use model's initial parameters to get cross validation score\n",
    "scores = cross_val_score(clf_xgb, X_train_sm, y_train_sm, scoring =\"roc_auc\", cv = 5)\n",
    "roc_auc_xgb = np.mean(scores)\n",
    "\n",
    "print(f'ROC_AUC training score with initial best parameters for XGBoost: {roc_auc_xgb:.3f}')"
   ]
  },
  {
   "cell_type": "markdown",
   "metadata": {},
   "source": [
    "#### Tune Parameters of XGBoost"
   ]
  },
  {
   "cell_type": "code",
   "execution_count": 27,
   "metadata": {},
   "outputs": [
    {
     "name": "stdout",
     "output_type": "stream",
     "text": [
      "{'colsample_bytree': array([0.5, 0.6, 0.7, 0.8]),\n",
      " 'gamma': array([0.1, 0.2, 0.3, 0.4, 0.5]),\n",
      " 'learning_rate': array([0.1, 0.2, 0.3, 0.4, 0.5]),\n",
      " 'max_depth': [3, 4, 5, 6, 7],\n",
      " 'n_estimators': array([200, 400, 600, 800]),\n",
      " 'scale_pos_weight': [1, 3.5],\n",
      " 'subsample': array([0.5, 0.6, 0.7, 0.8])}\n"
     ]
    }
   ],
   "source": [
    "# Number of trees\n",
    "n_estimators = np.arange(200,1000,200)\n",
    "\n",
    "# Minimum loss reduction required to make a further partition on a leaf node of the tree\n",
    "# The larger gamma is, the more conservative the algorithm will be\n",
    "gamma = np.arange(0.1,0.6,0.1)\n",
    "\n",
    "# Default 0.3, range(0,1)\n",
    "learning_rate = np.arange(0.1,0.6,0.1)\n",
    "\n",
    "# Maximum number of levels in tree\n",
    "max_depth = list(range(3,8,1))\n",
    "\n",
    "# Subsample ratio of the training instances.Range(0,1)\n",
    "subsample = np.arange(0.5,0.9,0.1)\n",
    "\n",
    "# Subsample ratio of columns when constructing each tree. Range(0,1)\n",
    "colsample_bytree = np.arange(0.5,0.9,0.1)\n",
    "\n",
    "# Control the balance of positive and negative weights\n",
    "# Sum(negative instances) / sum(positive instances)\n",
    "scale_pos_weight = [1,3.5]\n",
    "\n",
    "\n",
    "# Create the random grid\n",
    "random_grid_xgb = {'n_estimators': n_estimators,\n",
    "                   'gamma': gamma,\n",
    "                   'learning_rate':learning_rate,\n",
    "                   'max_depth': max_depth,\n",
    "                   'subsample':subsample,\n",
    "                   'colsample_bytree':colsample_bytree,\n",
    "                   'scale_pos_weight':scale_pos_weight\n",
    "                  }\n",
    "pprint(random_grid_xgb)"
   ]
  },
  {
   "cell_type": "code",
   "execution_count": 28,
   "metadata": {},
   "outputs": [
    {
     "name": "stdout",
     "output_type": "stream",
     "text": [
      "Fitting 3 folds for each of 100 candidates, totalling 300 fits\n",
      "[15:08:58] WARNING: C:/Users/Administrator/workspace/xgboost-win64_release_1.4.0/src/learner.cc:1095: Starting in XGBoost 1.3.0, the default evaluation metric used with the objective 'binary:logistic' was changed from 'error' to 'logloss'. Explicitly set eval_metric if you'd like to restore the old behavior.\n",
      "{'subsample': 0.6, 'scale_pos_weight': 3.5, 'n_estimators': 600, 'max_depth': 7, 'learning_rate': 0.2, 'gamma': 0.1, 'colsample_bytree': 0.7999999999999999} 0.8973266785754794\n"
     ]
    }
   ],
   "source": [
    "# Use randomized search to find best parameters\n",
    "\n",
    "xgboost = XGBClassifier()\n",
    "xgb_random = RandomizedSearchCV(estimator = xgboost, \n",
    "                                param_distributions = random_grid_xgb, \n",
    "                                n_iter = 100, \n",
    "                                cv = 3, \n",
    "                                verbose=1, \n",
    "                                random_state=42, \n",
    "                                n_jobs = -1,\n",
    "                                scoring ='roc_auc')\n",
    "\n",
    "\n",
    "xgb_random.fit(X_train_sm, y_train_sm)   \n",
    "xgb_random.best_params_, xgb_random.best_score_\n",
    "\n",
    "print(xgb_random.best_params_,xgb_random.best_score_)"
   ]
  },
  {
   "cell_type": "code",
   "execution_count": 29,
   "metadata": {},
   "outputs": [],
   "source": [
    "# Save tuned model for future use\n",
    "\n",
    "# joblib.dump(xgb_random,'xgb_random_final.pkl')"
   ]
  },
  {
   "cell_type": "markdown",
   "metadata": {},
   "source": [
    "After tuning hyperparameters, XGBoost has a ROC_AUC score of 0.898 on training data."
   ]
  },
  {
   "cell_type": "markdown",
   "metadata": {},
   "source": [
    "#### XGBoost Model Evaluation"
   ]
  },
  {
   "cell_type": "code",
   "execution_count": 30,
   "metadata": {},
   "outputs": [
    {
     "name": "stdout",
     "output_type": "stream",
     "text": [
      "XGBoost model on test data:\n",
      "Precision:0.810\n",
      "Recall:0.853\n",
      "F1 score:0.831\n"
     ]
    }
   ],
   "source": [
    "# Compute precision, recall and F1 score of tuned XGBoost model on test data\n",
    "\n",
    "print('XGBoost model on test data:')\n",
    "\n",
    "get_pre_rec_f1(xgb_random, X_test, y_test)"
   ]
  },
  {
   "cell_type": "markdown",
   "metadata": {},
   "source": [
    "# ANN"
   ]
  },
  {
   "cell_type": "code",
   "execution_count": 139,
   "metadata": {},
   "outputs": [
    {
     "name": "stdout",
     "output_type": "stream",
     "text": [
      "Epoch 1/30\n",
      "420/420 [==============================] - 1s 2ms/step - loss: 295.9941 - accuracy: 0.6960 - val_loss: 126.5217 - val_accuracy: 0.7477\n",
      "Epoch 2/30\n",
      "420/420 [==============================] - 1s 1ms/step - loss: 100.6816 - accuracy: 0.6982 - val_loss: 83.7735 - val_accuracy: 0.6582\n",
      "Epoch 3/30\n",
      "420/420 [==============================] - 1s 1ms/step - loss: 65.4525 - accuracy: 0.6966 - val_loss: 47.8854 - val_accuracy: 0.6869\n",
      "Epoch 4/30\n",
      "420/420 [==============================] - 1s 1ms/step - loss: 53.6497 - accuracy: 0.6964 - val_loss: 55.1307 - val_accuracy: 0.7666\n",
      "Epoch 5/30\n",
      "420/420 [==============================] - 1s 1ms/step - loss: 38.8962 - accuracy: 0.6981 - val_loss: 46.3716 - val_accuracy: 0.7710\n",
      "Epoch 6/30\n",
      "420/420 [==============================] - 1s 1ms/step - loss: 34.5088 - accuracy: 0.6963 - val_loss: 22.1561 - val_accuracy: 0.7459\n",
      "Epoch 7/30\n",
      "420/420 [==============================] - 1s 2ms/step - loss: 31.2239 - accuracy: 0.6932 - val_loss: 20.4500 - val_accuracy: 0.7540\n",
      "Epoch 8/30\n",
      "420/420 [==============================] - 1s 2ms/step - loss: 30.9269 - accuracy: 0.6950 - val_loss: 17.8776 - val_accuracy: 0.7621\n",
      "Epoch 9/30\n",
      "420/420 [==============================] - 0s 1ms/step - loss: 31.6886 - accuracy: 0.6924 - val_loss: 17.8869 - val_accuracy: 0.7612\n",
      "Epoch 10/30\n",
      "420/420 [==============================] - 1s 2ms/step - loss: 22.5296 - accuracy: 0.6989 - val_loss: 21.7689 - val_accuracy: 0.7466\n",
      "Epoch 11/30\n",
      "420/420 [==============================] - 1s 1ms/step - loss: 22.8562 - accuracy: 0.6937 - val_loss: 43.6644 - val_accuracy: 0.5664\n",
      "Epoch 12/30\n",
      "420/420 [==============================] - 1s 2ms/step - loss: 20.9229 - accuracy: 0.6999 - val_loss: 18.8449 - val_accuracy: 0.5748\n",
      "Epoch 13/30\n",
      "420/420 [==============================] - 1s 2ms/step - loss: 19.9491 - accuracy: 0.6951 - val_loss: 18.2758 - val_accuracy: 0.7773\n",
      "Epoch 14/30\n",
      "420/420 [==============================] - 1s 2ms/step - loss: 20.7964 - accuracy: 0.6903 - val_loss: 51.7124 - val_accuracy: 0.7751\n",
      "Epoch 15/30\n",
      "420/420 [==============================] - 1s 1ms/step - loss: 20.2944 - accuracy: 0.6938 - val_loss: 43.5615 - val_accuracy: 0.4974\n",
      "Epoch 16/30\n",
      "420/420 [==============================] - 1s 1ms/step - loss: 16.7192 - accuracy: 0.7022 - val_loss: 22.3106 - val_accuracy: 0.4880\n",
      "Epoch 17/30\n",
      "420/420 [==============================] - 0s 1ms/step - loss: 16.3792 - accuracy: 0.7004 - val_loss: 14.8984 - val_accuracy: 0.6344\n",
      "Epoch 18/30\n",
      "420/420 [==============================] - 1s 2ms/step - loss: 15.8758 - accuracy: 0.6966 - val_loss: 6.7327 - val_accuracy: 0.7167\n",
      "Epoch 19/30\n",
      "420/420 [==============================] - 1s 1ms/step - loss: 17.2344 - accuracy: 0.6930 - val_loss: 16.2174 - val_accuracy: 0.5966\n",
      "Epoch 20/30\n",
      "420/420 [==============================] - 0s 1ms/step - loss: 15.5241 - accuracy: 0.6973 - val_loss: 10.5593 - val_accuracy: 0.7688\n",
      "Epoch 21/30\n",
      "420/420 [==============================] - 1s 1ms/step - loss: 14.1391 - accuracy: 0.6956 - val_loss: 6.9739 - val_accuracy: 0.7497\n",
      "Epoch 22/30\n",
      "420/420 [==============================] - 1s 1ms/step - loss: 13.0584 - accuracy: 0.6997 - val_loss: 21.3352 - val_accuracy: 0.7760\n",
      "Epoch 23/30\n",
      "420/420 [==============================] - 1s 1ms/step - loss: 13.3718 - accuracy: 0.6964 - val_loss: 16.6702 - val_accuracy: 0.7536\n",
      "Epoch 24/30\n",
      "420/420 [==============================] - 1s 1ms/step - loss: 10.8195 - accuracy: 0.6992 - val_loss: 13.1479 - val_accuracy: 0.4968\n",
      "Epoch 25/30\n",
      "420/420 [==============================] - 1s 1ms/step - loss: 9.4387 - accuracy: 0.7025 - val_loss: 18.2010 - val_accuracy: 0.7770\n",
      "Epoch 26/30\n",
      "420/420 [==============================] - 1s 2ms/step - loss: 11.5842 - accuracy: 0.6938 - val_loss: 9.5785 - val_accuracy: 0.7677\n",
      "Epoch 27/30\n",
      "420/420 [==============================] - 1s 1ms/step - loss: 8.7584 - accuracy: 0.7013 - val_loss: 9.0501 - val_accuracy: 0.7642\n",
      "Epoch 28/30\n",
      "420/420 [==============================] - 1s 1ms/step - loss: 8.2414 - accuracy: 0.7016 - val_loss: 5.6790 - val_accuracy: 0.7673\n",
      "Epoch 29/30\n",
      "420/420 [==============================] - 1s 2ms/step - loss: 11.6030 - accuracy: 0.6927 - val_loss: 7.4756 - val_accuracy: 0.7739\n",
      "Epoch 30/30\n",
      "420/420 [==============================] - 1s 1ms/step - loss: 7.4543 - accuracy: 0.6970 - val_loss: 6.9969 - val_accuracy: 0.7003\n",
      "Epoch 1/30\n",
      "655/655 [==============================] - 1s 1ms/step - loss: 765.1907 - accuracy: 0.5411 - val_loss: 318.8680 - val_accuracy: 0.5104\n",
      "Epoch 2/30\n",
      "655/655 [==============================] - 1s 1ms/step - loss: 253.1072 - accuracy: 0.5452 - val_loss: 459.9216 - val_accuracy: 0.3414\n",
      "Epoch 3/30\n",
      "655/655 [==============================] - 1s 1ms/step - loss: 185.1169 - accuracy: 0.5544 - val_loss: 112.2743 - val_accuracy: 0.7496\n",
      "Epoch 4/30\n",
      "655/655 [==============================] - 1s 1ms/step - loss: 142.1458 - accuracy: 0.5591 - val_loss: 194.5681 - val_accuracy: 0.4146\n",
      "Epoch 5/30\n",
      "655/655 [==============================] - 1s 1ms/step - loss: 136.2260 - accuracy: 0.5563 - val_loss: 112.6267 - val_accuracy: 0.6271\n",
      "Epoch 6/30\n",
      "655/655 [==============================] - 1s 1ms/step - loss: 136.6142 - accuracy: 0.5587 - val_loss: 121.0986 - val_accuracy: 0.6352\n",
      "Epoch 7/30\n",
      "655/655 [==============================] - 1s 1ms/step - loss: 110.1396 - accuracy: 0.5692 - val_loss: 104.6918 - val_accuracy: 0.6000\n",
      "Epoch 8/30\n",
      "655/655 [==============================] - 1s 1ms/step - loss: 112.9143 - accuracy: 0.5616 - val_loss: 55.0463 - val_accuracy: 0.7021\n",
      "Epoch 9/30\n",
      "655/655 [==============================] - 1s 1ms/step - loss: 96.1608 - accuracy: 0.5702 - val_loss: 147.5288 - val_accuracy: 0.4672\n",
      "Epoch 10/30\n",
      "655/655 [==============================] - 1s 1ms/step - loss: 103.0365 - accuracy: 0.5672 - val_loss: 60.7580 - val_accuracy: 0.7728\n",
      "Epoch 11/30\n",
      "655/655 [==============================] - 1s 1ms/step - loss: 90.9256 - accuracy: 0.5741 - val_loss: 61.0627 - val_accuracy: 0.6376\n",
      "Epoch 12/30\n",
      "655/655 [==============================] - 1s 1ms/step - loss: 75.9334 - accuracy: 0.5788 - val_loss: 43.1039 - val_accuracy: 0.6881\n",
      "Epoch 13/30\n",
      "655/655 [==============================] - 1s 1ms/step - loss: 98.0187 - accuracy: 0.5748 - val_loss: 88.8439 - val_accuracy: 0.6969\n",
      "Epoch 14/30\n",
      "655/655 [==============================] - 1s 1ms/step - loss: 73.9720 - accuracy: 0.5815 - val_loss: 59.5605 - val_accuracy: 0.6708\n",
      "Epoch 15/30\n",
      "655/655 [==============================] - 1s 1ms/step - loss: 73.8533 - accuracy: 0.5751 - val_loss: 167.8088 - val_accuracy: 0.4281\n",
      "Epoch 16/30\n",
      "655/655 [==============================] - 1s 1ms/step - loss: 68.8606 - accuracy: 0.5782 - val_loss: 42.8203 - val_accuracy: 0.6827\n",
      "Epoch 17/30\n",
      "655/655 [==============================] - 1s 2ms/step - loss: 71.1279 - accuracy: 0.5795 - val_loss: 79.0588 - val_accuracy: 0.4572\n",
      "Epoch 18/30\n",
      "655/655 [==============================] - 1s 2ms/step - loss: 65.7355 - accuracy: 0.5839 - val_loss: 27.3270 - val_accuracy: 0.7229\n",
      "Epoch 19/30\n",
      "655/655 [==============================] - 1s 1ms/step - loss: 61.6711 - accuracy: 0.5827 - val_loss: 32.6916 - val_accuracy: 0.6979\n",
      "Epoch 20/30\n",
      "655/655 [==============================] - 1s 2ms/step - loss: 62.6216 - accuracy: 0.5869 - val_loss: 65.2131 - val_accuracy: 0.6128\n",
      "Epoch 21/30\n",
      "655/655 [==============================] - 1s 1ms/step - loss: 65.0960 - accuracy: 0.5796 - val_loss: 295.4262 - val_accuracy: 0.2371\n",
      "Epoch 22/30\n",
      "655/655 [==============================] - 1s 1ms/step - loss: 61.8861 - accuracy: 0.5861 - val_loss: 160.7923 - val_accuracy: 0.3296\n",
      "Epoch 23/30\n",
      "655/655 [==============================] - 1s 1ms/step - loss: 61.8029 - accuracy: 0.5860 - val_loss: 105.5595 - val_accuracy: 0.3897\n",
      "Epoch 24/30\n",
      "655/655 [==============================] - 1s 1ms/step - loss: 58.0727 - accuracy: 0.5862 - val_loss: 444.8139 - val_accuracy: 0.2436\n",
      "Epoch 25/30\n",
      "655/655 [==============================] - 1s 1ms/step - loss: 61.0737 - accuracy: 0.5822 - val_loss: 39.0659 - val_accuracy: 0.5058\n",
      "Epoch 26/30\n",
      "655/655 [==============================] - 1s 1ms/step - loss: 48.0100 - accuracy: 0.5915 - val_loss: 64.6859 - val_accuracy: 0.3923\n",
      "Epoch 27/30\n"
     ]
    },
    {
     "name": "stdout",
     "output_type": "stream",
     "text": [
      "655/655 [==============================] - 1s 1ms/step - loss: 51.3127 - accuracy: 0.5836 - val_loss: 207.9155 - val_accuracy: 0.2596\n",
      "Epoch 28/30\n",
      "655/655 [==============================] - 1s 1ms/step - loss: 49.4707 - accuracy: 0.5901 - val_loss: 28.1664 - val_accuracy: 0.6739\n",
      "Epoch 29/30\n",
      "655/655 [==============================] - 1s 1ms/step - loss: 48.7488 - accuracy: 0.5845 - val_loss: 55.9422 - val_accuracy: 0.5019\n",
      "Epoch 30/30\n",
      "655/655 [==============================] - 1s 1ms/step - loss: 48.0329 - accuracy: 0.5880 - val_loss: 40.5648 - val_accuracy: 0.4764\n"
     ]
    },
    {
     "data": {
      "text/html": [
       "<div>\n",
       "<style scoped>\n",
       "    .dataframe tbody tr th:only-of-type {\n",
       "        vertical-align: middle;\n",
       "    }\n",
       "\n",
       "    .dataframe tbody tr th {\n",
       "        vertical-align: top;\n",
       "    }\n",
       "\n",
       "    .dataframe thead th {\n",
       "        text-align: right;\n",
       "    }\n",
       "</style>\n",
       "<table border=\"1\" class=\"dataframe\">\n",
       "  <thead>\n",
       "    <tr style=\"text-align: right;\">\n",
       "      <th></th>\n",
       "      <th>Model</th>\n",
       "      <th>SMOTE</th>\n",
       "      <th>ROC_AUC Score</th>\n",
       "    </tr>\n",
       "  </thead>\n",
       "  <tbody>\n",
       "    <tr>\n",
       "      <th>0</th>\n",
       "      <td>ANN</td>\n",
       "      <td>Without SMOTE</td>\n",
       "      <td>0.633217</td>\n",
       "    </tr>\n",
       "    <tr>\n",
       "      <th>1</th>\n",
       "      <td>ANN</td>\n",
       "      <td>With SMOTE</td>\n",
       "      <td>0.617663</td>\n",
       "    </tr>\n",
       "  </tbody>\n",
       "</table>\n",
       "</div>"
      ],
      "text/plain": [
       "  Model          SMOTE  ROC_AUC Score\n",
       "0   ANN  Without SMOTE       0.633217\n",
       "1   ANN     With SMOTE       0.617663"
      ]
     },
     "execution_count": 139,
     "metadata": {},
     "output_type": "execute_result"
    }
   ],
   "source": [
    "def run_ann(imbalance = False):\n",
    "    X_train, X_test, y_train, y_test = data_split(X, y, imbalance = imbalance)\n",
    "    model = Sequential()\n",
    "    model.add(Dense( units = 32 , activation = 'relu' , input_dim = 23))\n",
    "    model.add(Dense( units = 16 , activation = 'relu'))\n",
    "    model.add(Dense( units = 1 , activation = 'sigmoid'))\n",
    "    model.compile(optimizer= 'adam' , loss = 'binary_crossentropy' , metrics= ['accuracy'])\n",
    "    model.fit(X_train , y_train , batch_size = 50 , epochs = 30  , validation_data= (X_test , y_test))\n",
    "    #score = model.evaluate(X_test , y_test)\n",
    "    #ann_predictions = model.predict(X_test)\n",
    "    proba = model.predict_proba(X_test)\n",
    "    auc = roc_auc_score(y_test, proba)\n",
    "    \n",
    "    if imbalance:\n",
    "        return \"ANN\", \"With SMOTE\", auc\n",
    "    else:\n",
    "        return \"ANN\", \"Without SMOTE\", auc\n",
    "    \n",
    "    \n",
    "model_result = []\n",
    "model_result.append(run_ann())                  \n",
    "model_result.append(run_ann(imbalance=True))    \n",
    "\n",
    "pd.DataFrame(model_result, columns = [\"Model\", \"SMOTE\", \"ROC_AUC Score\"])"
   ]
  },
  {
   "cell_type": "markdown",
   "metadata": {},
   "source": [
    "### Training model with SMOTE oversampled data , epochs = 20 and batch size = 50"
   ]
  },
  {
   "cell_type": "code",
   "execution_count": 140,
   "metadata": {},
   "outputs": [
    {
     "name": "stdout",
     "output_type": "stream",
     "text": [
      "Epoch 1/20\n",
      "655/655 [==============================] - 1s 1ms/step - loss: 589.3453 - accuracy: 0.5295 - val_loss: 152.2263 - val_accuracy: 0.6904\n",
      "Epoch 2/20\n",
      "655/655 [==============================] - 1s 1ms/step - loss: 178.2299 - accuracy: 0.5387 - val_loss: 241.1747 - val_accuracy: 0.3489\n",
      "Epoch 3/20\n",
      "655/655 [==============================] - 1s 1ms/step - loss: 139.0977 - accuracy: 0.5473 - val_loss: 94.6763 - val_accuracy: 0.5687\n",
      "Epoch 4/20\n",
      "655/655 [==============================] - 1s 1ms/step - loss: 118.4735 - accuracy: 0.5499 - val_loss: 66.7792 - val_accuracy: 0.7577\n",
      "Epoch 5/20\n",
      "655/655 [==============================] - 1s 1ms/step - loss: 95.6312 - accuracy: 0.5561 - val_loss: 196.2758 - val_accuracy: 0.3137\n",
      "Epoch 6/20\n",
      "655/655 [==============================] - 1s 2ms/step - loss: 97.4273 - accuracy: 0.5580 - val_loss: 125.3538 - val_accuracy: 0.4514\n",
      "Epoch 7/20\n",
      "655/655 [==============================] - 1s 1ms/step - loss: 81.7337 - accuracy: 0.5596 - val_loss: 50.7319 - val_accuracy: 0.6093\n",
      "Epoch 8/20\n",
      "655/655 [==============================] - 1s 1ms/step - loss: 84.1459 - accuracy: 0.5570 - val_loss: 118.9433 - val_accuracy: 0.3544\n",
      "Epoch 9/20\n",
      "655/655 [==============================] - 1s 1ms/step - loss: 89.1695 - accuracy: 0.5548 - val_loss: 43.8086 - val_accuracy: 0.7256\n",
      "Epoch 10/20\n",
      "655/655 [==============================] - 1s 1ms/step - loss: 66.0095 - accuracy: 0.5610 - val_loss: 34.6508 - val_accuracy: 0.6451\n",
      "Epoch 11/20\n",
      "655/655 [==============================] - 1s 1ms/step - loss: 82.8790 - accuracy: 0.5578 - val_loss: 68.9620 - val_accuracy: 0.7704\n",
      "Epoch 12/20\n",
      "655/655 [==============================] - 1s 1ms/step - loss: 69.0137 - accuracy: 0.5632 - val_loss: 46.4678 - val_accuracy: 0.7070\n",
      "Epoch 13/20\n",
      "655/655 [==============================] - 1s 1ms/step - loss: 58.8210 - accuracy: 0.5688 - val_loss: 103.1745 - val_accuracy: 0.3483\n",
      "Epoch 14/20\n",
      "655/655 [==============================] - 1s 1ms/step - loss: 67.4125 - accuracy: 0.5670 - val_loss: 45.6552 - val_accuracy: 0.5650\n",
      "Epoch 15/20\n",
      "655/655 [==============================] - 1s 1ms/step - loss: 54.8874 - accuracy: 0.5682 - val_loss: 42.5687 - val_accuracy: 0.6731\n",
      "Epoch 16/20\n",
      "655/655 [==============================] - 1s 1ms/step - loss: 51.3070 - accuracy: 0.5686 - val_loss: 62.2490 - val_accuracy: 0.5360\n",
      "Epoch 17/20\n",
      "655/655 [==============================] - 1s 1ms/step - loss: 54.0289 - accuracy: 0.5733 - val_loss: 51.3237 - val_accuracy: 0.5854\n",
      "Epoch 18/20\n",
      "655/655 [==============================] - 1s 1ms/step - loss: 45.5660 - accuracy: 0.5749 - val_loss: 25.8128 - val_accuracy: 0.6701\n",
      "Epoch 19/20\n",
      "655/655 [==============================] - 1s 1ms/step - loss: 48.2510 - accuracy: 0.5747 - val_loss: 86.6347 - val_accuracy: 0.4612\n",
      "Epoch 20/20\n",
      "655/655 [==============================] - 1s 1ms/step - loss: 56.4268 - accuracy: 0.5690 - val_loss: 50.5383 - val_accuracy: 0.7804\n"
     ]
    },
    {
     "data": {
      "text/plain": [
       "<tensorflow.python.keras.callbacks.History at 0x2c75396f640>"
      ]
     },
     "execution_count": 140,
     "metadata": {},
     "output_type": "execute_result"
    }
   ],
   "source": [
    "# X_train, X_test, y_train, y_test = train_test_split(X,y , test_size = 0.2 , random_state = 42)\n",
    "X_train, X_test, y_train, y_test = data_split(X, y, imbalance = True)\n",
    "model = Sequential()\n",
    "model.add(Dense( units = 32 , activation = 'relu' , input_dim = 23))\n",
    "model.add(Dense( units = 16 , activation = 'relu'))\n",
    "model.add(Dense( units = 1 , activation = 'sigmoid'))\n",
    "model.compile(optimizer= 'adam' , loss = 'binary_crossentropy' , metrics= ['accuracy'])\n",
    "model.fit(X_train , y_train , batch_size = 50 , epochs = 20  , validation_data= (X_test , y_test))"
   ]
  },
  {
   "cell_type": "markdown",
   "metadata": {},
   "source": [
    "## ANN Model evaluation"
   ]
  },
  {
   "cell_type": "code",
   "execution_count": 141,
   "metadata": {},
   "outputs": [
    {
     "name": "stdout",
     "output_type": "stream",
     "text": [
      "ROC_AUC score for ANN Model = 0.591\n"
     ]
    }
   ],
   "source": [
    "# Calculating ROC_AUC score\n",
    "\n",
    "proba = model.predict_proba(X_test)\n",
    "auc_ann = roc_auc_score(y_test, proba)\n",
    "print('ROC_AUC score for ANN Model = %.3f'%auc_ann)"
   ]
  },
  {
   "cell_type": "code",
   "execution_count": 142,
   "metadata": {},
   "outputs": [
    {
     "name": "stdout",
     "output_type": "stream",
     "text": [
      "ANN model \n",
      " Precision = 0.785\n",
      "Recall = 0.988\n",
      "F1 Score = 0.875\n"
     ]
    }
   ],
   "source": [
    "# Calculating precision , recall and F1 score\n",
    "y_pred_ann = (proba >= 0.5)\n",
    "tp , fp, fn , tn = confusion_matrix(y_pred_ann , y_test).ravel()\n",
    "\n",
    "precision = tp / (tp+fp)\n",
    "\n",
    "recall = tp / (tp + fn)\n",
    "\n",
    "F1_score = 2 * ((precision*recall)/(precision+recall))\n",
    "\n",
    "print('ANN model \\n Precision = %.3f'%precision)\n",
    "print('Recall = %.3f'%recall)\n",
    "print('F1 Score = %.3f'%F1_score)"
   ]
  },
  {
   "cell_type": "markdown",
   "metadata": {},
   "source": [
    "# Gaussian NB"
   ]
  },
  {
   "cell_type": "code",
   "execution_count": 44,
   "metadata": {},
   "outputs": [],
   "source": [
    "gnb_model = GaussianNB()"
   ]
  },
  {
   "cell_type": "code",
   "execution_count": 45,
   "metadata": {},
   "outputs": [
    {
     "data": {
      "text/html": [
       "<div>\n",
       "<style scoped>\n",
       "    .dataframe tbody tr th:only-of-type {\n",
       "        vertical-align: middle;\n",
       "    }\n",
       "\n",
       "    .dataframe tbody tr th {\n",
       "        vertical-align: top;\n",
       "    }\n",
       "\n",
       "    .dataframe thead th {\n",
       "        text-align: right;\n",
       "    }\n",
       "</style>\n",
       "<table border=\"1\" class=\"dataframe\">\n",
       "  <thead>\n",
       "    <tr style=\"text-align: right;\">\n",
       "      <th></th>\n",
       "      <th>Model</th>\n",
       "      <th>SMOTE</th>\n",
       "      <th>ROC_AUC Score</th>\n",
       "    </tr>\n",
       "  </thead>\n",
       "  <tbody>\n",
       "    <tr>\n",
       "      <th>0</th>\n",
       "      <td>Gaussian NB</td>\n",
       "      <td>Without SMOTE</td>\n",
       "      <td>0.735609</td>\n",
       "    </tr>\n",
       "    <tr>\n",
       "      <th>1</th>\n",
       "      <td>Gaussian NB</td>\n",
       "      <td>With SMOTE</td>\n",
       "      <td>0.747059</td>\n",
       "    </tr>\n",
       "  </tbody>\n",
       "</table>\n",
       "</div>"
      ],
      "text/plain": [
       "         Model          SMOTE  ROC_AUC Score\n",
       "0  Gaussian NB  Without SMOTE       0.735609\n",
       "1  Gaussian NB     With SMOTE       0.747059"
      ]
     },
     "execution_count": 45,
     "metadata": {},
     "output_type": "execute_result"
    }
   ],
   "source": [
    "def run_gnb(imbalance=False):\n",
    "    # Split data  \n",
    "    X_train, X_test, y_train, y_test = data_split(X, y, imbalance = imbalance)\n",
    "\n",
    "    # Rescale data\n",
    "    X_train_std, X_test_std = standard_scaler(X_train, X_test, numerical_cols = num_cols)\n",
    "    \n",
    "    # Instantiate model\n",
    "    clf_gnb = GaussianNB()\n",
    "    \n",
    "    # Fit the model\n",
    "    clf_gnb.fit(X_train_std, y_train)\n",
    "\n",
    "    # Use model's default parameters to get cross validation score\n",
    "    scores = cross_val_score(clf_gnb, X_train_std, y_train, scoring =\"roc_auc\", cv = 5)\n",
    "    roc_auc_gnb = np.mean(scores)\n",
    "    \n",
    "    if imbalance:\n",
    "        return \"Gaussian NB\", \"With SMOTE\", roc_auc_gnb\n",
    "    else:\n",
    "        return \"Gaussian NB\", \"Without SMOTE\", roc_auc_gnb\n",
    "\n",
    "model_result = []\n",
    "model_result.append(run_gnb())\n",
    "model_result.append(run_gnb(imbalance=True))\n",
    "\n",
    "pd.DataFrame(model_result, columns = [\"Model\", \"SMOTE\", \"ROC_AUC Score\"])"
   ]
  },
  {
   "cell_type": "markdown",
   "metadata": {},
   "source": [
    "## Gaussian NB model evaluation"
   ]
  },
  {
   "cell_type": "code",
   "execution_count": 46,
   "metadata": {},
   "outputs": [
    {
     "name": "stdout",
     "output_type": "stream",
     "text": [
      "0.5494649954142463\n"
     ]
    }
   ],
   "source": [
    "X_train, X_test, y_train, y_test = data_split(X, y, imbalance = True)\n",
    "\n",
    "gnb_model = GaussianNB().fit(X_train,y_train)\n",
    "results = cross_val_score(gnb_model, X_train, y_train, cv = 5)\n",
    "print(results.mean())"
   ]
  },
  {
   "cell_type": "code",
   "execution_count": 47,
   "metadata": {},
   "outputs": [
    {
     "name": "stdout",
     "output_type": "stream",
     "text": [
      "ROC_AUC score after tuning parameters:0.747\n"
     ]
    }
   ],
   "source": [
    "# Get ROC_AUC score of tuned model on training data\n",
    "\n",
    "scores_tuned = cross_val_score(gnb_model, X_train_std, y_train, scoring = \"roc_auc\", cv = 5)\n",
    "roc_auc_gnb_best = np.mean(scores_tuned)\n",
    "\n",
    "print(f'ROC_AUC score after tuning parameters:{roc_auc_gnb_best:.3f}')"
   ]
  },
  {
   "cell_type": "code",
   "execution_count": 62,
   "metadata": {},
   "outputs": [
    {
     "name": "stdout",
     "output_type": "stream",
     "text": [
      "Gaussian Naive Bayes model on test data:\n",
      "Precision:0.163\n",
      "Recall:0.872\n",
      "F1 score:0.274\n"
     ]
    }
   ],
   "source": [
    "# # Calculate precision and recall of Logistic Regression model\n",
    "\n",
    "print('Gaussian Naive Bayes model on test data:')\n",
    "get_pre_rec_f1(gnb_model, X_test, y_test)"
   ]
  },
  {
   "cell_type": "markdown",
   "metadata": {},
   "source": [
    "## Model Comparison"
   ]
  },
  {
   "cell_type": "markdown",
   "metadata": {},
   "source": [
    "#### Confusion Matrix"
   ]
  },
  {
   "cell_type": "code",
   "execution_count": 116,
   "metadata": {},
   "outputs": [
    {
     "data": {
      "text/plain": [
       "Text(0.5, 1.0, 'ANN')"
      ]
     },
     "execution_count": 116,
     "metadata": {},
     "output_type": "execute_result"
    },
    {
     "data": {
      "image/png": "[encoded data removed]",
      "text/plain": [
       "<Figure size 720x1080 with 8 Axes>"
      ]
     },
     "metadata": {
      "needs_background": "light"
     },
     "output_type": "display_data"
    },
    {
     "data": {
      "image/png": "[encoded data removed]",
      "text/plain": [
       "<Figure size 324x252 with 2 Axes>"
      ]
     },
     "metadata": {
      "needs_background": "light"
     },
     "output_type": "display_data"
    }
   ],
   "source": [
    "# Plot confusion matrix of 3 models\n",
    "\n",
    "fig,ax=plt.subplots(4,1, figsize=(10,15))\n",
    "\n",
    "plot_confusion_matrix(lr_best, X_test_std, y_test, ax = ax[0], values_format=\"d\")\n",
    "ax[0].set_title(\"Logistic Regression\")\n",
    "\n",
    "plot_confusion_matrix(rf_best, X_test, y_test, ax = ax[1], values_format=\"d\")\n",
    "ax[1].set_title(\"Random Forest\")\n",
    "\n",
    "plot_confusion_matrix(xgb_random, X_test, y_test, ax = ax[2], values_format=\"d\")\n",
    "ax[2].set_title(\"XGBoost\")\n",
    "\n",
    "plot_confusion_matrix(gnb_model , X_train , y_train , ax = ax[3] , values_format = \"d\")\n",
    "ax[3].set_title(\"Gaussian NB\")\n",
    "\n",
    "plt.figure(figsize = (4.5,3.5))\n",
    "sns.heatmap(confusion_matrix(y_pred_ann , y_test) , annot = True , cmap = 'viridis' , fmt = 'g')\n",
    "plt.xlabel('Predcited label')\n",
    "plt.ylabel('True label')\n",
    "plt.title(\"ANN\")\n"
   ]
  },
  {
   "cell_type": "markdown",
   "metadata": {},
   "source": [
    "#### ROC_AUC Curve"
   ]
  },
  {
   "cell_type": "code",
   "execution_count": 143,
   "metadata": {},
   "outputs": [
    {
     "data": {
      "image/png": "[encoded data removed]",
      "text/plain": [
       "<Figure size 720x360 with 1 Axes>"
      ]
     },
     "metadata": {
      "needs_background": "light"
     },
     "output_type": "display_data"
    }
   ],
   "source": [
    "# Plot ROC_AUC curve of 3 models\n",
    " \n",
    "fig,ax=plt.subplots(figsize=(10,5))\n",
    "\n",
    "plot_roc_curve(lr_best, X_test_std, y_test,ax=ax, color=\"blue\",label='Logistic Regression')\n",
    "plot_roc_curve(rf_best, X_test, y_test,ax=ax, color=\"black\",label='Random Forest')\n",
    "plot_roc_curve(xgb_random, X_test, y_test,ax=ax, color=\"red\",label='XGBoost')\n",
    "plot_roc_curve(gnb_model , X_test , y_test , ax=ax , color = 'yellow' , label = 'Gaussian NB')\n",
    "#plot_roc_curve(model , X_test , y_test , ax = ax , color = 'green' , label = 'ANN')\n",
    "\n",
    "# ROC_AUC curve for ANN\n",
    "proba = model.predict_proba(X_test)\n",
    "fpr1, tpr1, thresh1 = roc_curve(y_test, proba, pos_label=1)\n",
    "#plt.subplot(ax)\n",
    "plt.plot(fpr1, tpr1,color='green', label='ANN')\n",
    "# x label\n",
    "plt.xlabel('False Positive Rate')\n",
    "# y label\n",
    "plt.ylabel('True Positive rate')\n",
    "plt.legend(loc = 'best')\n",
    "plt.title('ROC/AUC of models')\n",
    "plt.grid()\n",
    "plt.savefig('Comparison_of_models')"
   ]
  },
  {
   "cell_type": "markdown",
   "metadata": {},
   "source": [
    "#### Precision_Recall Curve"
   ]
  },
  {
   "cell_type": "markdown",
   "metadata": {},
   "source": [
    "Since the classes are imbalanced, precision_recall curve is more approriate."
   ]
  },
  {
   "cell_type": "code",
   "execution_count": 145,
   "metadata": {},
   "outputs": [
    {
     "data": {
      "image/png": "[encoded data removed]",
      "text/plain": [
       "<Figure size 720x360 with 1 Axes>"
      ]
     },
     "metadata": {
      "needs_background": "light"
     },
     "output_type": "display_data"
    },
    {
     "data": {
      "text/plain": [
       "<Figure size 432x288 with 0 Axes>"
      ]
     },
     "metadata": {},
     "output_type": "display_data"
    }
   ],
   "source": [
    "# Compare 3 models' Precision_recall curves\n",
    "\n",
    "fig,ax=plt.subplots(figsize=(10,5))\n",
    "\n",
    "plot_precision_recall_curve(lr_best, X_test_std, y_test, ax=ax,color=\"blue\",label='Logistic Regression')\n",
    "plot_precision_recall_curve(rf_best, X_test, y_test, ax=ax,color=\"black\",label='Random Forest')\n",
    "plot_precision_recall_curve(xgb_random, X_test, y_test, ax=ax,color=\"red\",label='XGBoost')\n",
    "plot_precision_recall_curve(gnb_model , X_test , y_test , ax = ax , color = 'yellow' , label = 'Gaussian NB')\n",
    "\n",
    "# Precision-Recall curve  for ANN\n",
    "proba = model.predict_proba(X_test)\n",
    "ann_precision, ann_recall, _ = precision_recall_curve(y_test, proba)\n",
    "ann_f1, ann_auc = F1_score, auc_ann\n",
    "plt.plot(mlp_recall, mlp_precision, label='ANN' , color = 'green')\n",
    "\n",
    "\n",
    "\n",
    "plt.title('Precision_Recall of models')\n",
    "plt.grid()\n",
    "plt.xlabel('Recall')\n",
    "plt.ylabel('Precision')\n",
    "# show the legend\n",
    "plt.legend()\n",
    "# show the plot\n",
    "plt.show()\n",
    "plt.savefig('PR model_comparison')"
   ]
  },
  {
   "cell_type": "markdown",
   "metadata": {},
   "source": [
    "#### Model Recommendation"
   ]
  },
  {
   "cell_type": "markdown",
   "metadata": {},
   "source": [
    "We recommend recall = 0.8, however, the threshold can be adjusted to reach higher recall."
   ]
  },
  {
   "cell_type": "markdown",
   "metadata": {},
   "source": [
    "# Winner model - Random Forest"
   ]
  },
  {
   "cell_type": "code",
   "execution_count": 53,
   "metadata": {},
   "outputs": [
    {
     "data": {
      "text/plain": [
       "(0.7995981918633852, 0.32463295269168024, 0.25335130147630147)"
      ]
     },
     "execution_count": 53,
     "metadata": {},
     "output_type": "execute_result"
    }
   ],
   "source": [
    "# Compute precision, recall and threshold of Random Forest\n",
    "\n",
    "y_predict_rf = rf_best.predict_proba(X_test)\n",
    "y_scores_rf = y_predict_rf[:,1]\n",
    "\n",
    "precisions, recalls, thresholds = precision_recall_curve(y_test, y_scores_rf)\n",
    "\n",
    "recalls_80 = recalls[np.argmin(recalls >= 0.80)]               # Recommend recall score = 0.8\n",
    "precision_80 = precisions[np.argmin(recalls >= 0.80)]\n",
    "threshold_80_recall = thresholds[np.argmin(recalls >= 0.80)]\n",
    "\n",
    "thresholds = np.append(thresholds, 1)\n",
    "\n",
    "recalls_80, precision_80, threshold_80_recall\n"
   ]
  },
  {
   "cell_type": "code",
   "execution_count": 107,
   "metadata": {},
   "outputs": [
    {
     "data": {
      "image/png": "[encoded data removed]",
      "text/plain": [
       "<Figure size 720x360 with 1 Axes>"
      ]
     },
     "metadata": {
      "needs_background": "light"
     },
     "output_type": "display_data"
    }
   ],
   "source": [
    "# Plot recommended recall = 0.8\n",
    "\n",
    "fig, ax = plt.subplots(figsize=(10,5))\n",
    "\n",
    "ax.plot(thresholds, recalls, label='Recalls')\n",
    "ax.plot(thresholds, precisions, label='Precisions')\n",
    "\n",
    "ax.plot([threshold_80_recall, threshold_80_recall], [precision_80, recalls_80], \"r:\" )\n",
    "ax.plot([threshold_80_recall, threshold_80_recall], [0, precision_80], \"r:\")\n",
    "ax.plot([0, threshold_80_recall], [precision_80, precision_80], \"r:\")\n",
    "ax.plot([0, threshold_80_recall], [recalls_80, recalls_80], \"r:\")\n",
    "ax.plot([threshold_80_recall], [recalls_80], \"ro\", label='Threshold')\n",
    "\n",
    "ax.set_xlabel('Threshold')\n",
    "ax.set_ylabel('Precisons / Recalls')\n",
    "ax.legend(loc='center right',fontsize=16)\n",
    "plt.title('Model Recommendation(Recalls = 0.8)')\n",
    "plt.savefig('recommended_recall')\n",
    "plt.show()\n"
   ]
  },
  {
   "cell_type": "markdown",
   "metadata": {},
   "source": [
    "#### Feature Importances"
   ]
  },
  {
   "cell_type": "code",
   "execution_count": 55,
   "metadata": {},
   "outputs": [
    {
     "data": {
      "text/plain": [
       "Text(0.5, 1.0, 'Features importance')"
      ]
     },
     "execution_count": 55,
     "metadata": {},
     "output_type": "execute_result"
    },
    {
     "data": {
      "image/png": "[encoded data removed]",
      "text/plain": [
       "<Figure size 720x576 with 1 Axes>"
      ]
     },
     "metadata": {
      "needs_background": "light"
     },
     "output_type": "display_data"
    }
   ],
   "source": [
    "# Plot feature importance of winner model - Random Forest\n",
    "\n",
    "fea_df = pd.DataFrame({'Feature': feature_cols, 'Feature importance': rf_best.feature_importances_})\n",
    "fea_df = fea_df.sort_values(by='Feature importance')\n",
    "\n",
    "figure, ax = plt.subplots(figsize = (10,8))\n",
    "fea_df.plot.barh(x='Feature',y='Feature importance', ax=ax)\n",
    "plt.title('Features importance',fontsize=14)"
   ]
  },
  {
   "cell_type": "markdown",
   "metadata": {},
   "source": [
    "\"PAY_1\" AND \"Pay_2\" are the most recent 2 months' payment status and they are the strongest predictors of future payment default risk."
   ]
  },
  {
   "cell_type": "markdown",
   "metadata": {},
   "source": [
    "## Conclusion"
   ]
  },
  {
   "cell_type": "markdown",
   "metadata": {},
   "source": [
    "Logistic Regression model has the highest recall but the lowest precision, if the business cares recall the most, then this model is the best candidate. If the balance of recall and precision is the most important metric, then Random Forest is the ideal model. Since Random Forest has slightly lower recall but much higher precision than Logistic Regression, I would recommend Random Forest. "
   ]
  }
 ],
 "metadata": {
  "kernelspec": {
   "display_name": "Python 3",
   "language": "python",
   "name": "python3"
  },
  "language_info": {
   "codemirror_mode": {
    "name": "ipython",
    "version": 3
   },
   "file_extension": ".py",
   "mimetype": "text/x-python",
   "name": "python",
   "nbconvert_exporter": "python",
   "pygments_lexer": "ipython3",
   "version": "3.8.3"
  }
 },
 "nbformat": 4,
 "nbformat_minor": 4
}
