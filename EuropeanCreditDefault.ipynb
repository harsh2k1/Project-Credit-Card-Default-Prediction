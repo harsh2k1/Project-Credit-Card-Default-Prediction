{
 "cells": [
  {
   "cell_type": "code",
   "execution_count": 1,
   "metadata": {
    "colab": {
     "base_uri": "https://localhost:8080/"
    },
    "id": "-XnFmnQ01AGY",
    "outputId": "94acd457-393e-44f0-88bc-ad72e41d49f3"
   },
   "outputs": [],
   "source": [
    "# from google.colab import drive\n",
    "# drive.mount('/content/drive')"
   ]
  },
  {
   "cell_type": "code",
   "execution_count": 2,
   "metadata": {
    "id": "LzXlmlqt1TL-"
   },
   "outputs": [],
   "source": [
    "import pandas as pd\n",
    "import numpy as np\n",
    "import warnings\n",
    "warnings.filterwarnings('ignore')\n",
    "import matplotlib.pyplot as plt\n",
    "import seaborn as sns\n",
    "from sklearn.preprocessing import StandardScaler , MinMaxScaler\n",
    "from sklearn.model_selection import train_test_split , KFold , GridSearchCV , cross_val_score\n",
    "from sklearn.linear_model import LogisticRegression\n",
    "from sklearn.ensemble import RandomForestClassifier\n",
    "from sklearn.naive_bayes import GaussianNB\n",
    "import xgboost as xgb\n",
    "from xgboost import XGBClassifier\n",
    "import tensorflow as tf\n",
    "from tensorflow import keras\n",
    "from tensorflow.keras.models import Sequential\n",
    "from tensorflow.keras.layers import Dense\n",
    "from sklearn.metrics import classification_report , accuracy_score , confusion_matrix , plot_confusion_matrix , plot_roc_curve , roc_auc_score ,\\\n",
    "roc_curve , plot_roc_curve"
   ]
  },
  {
   "cell_type": "code",
   "execution_count": 3,
   "metadata": {
    "colab": {
     "base_uri": "https://localhost:8080/",
     "height": 223
    },
    "id": "3xDX2nTm2woX",
    "outputId": "08027d59-2920-4d34-932b-dc83c8658410"
   },
   "outputs": [
    {
     "data": {
      "text/html": [
       "<div>\n",
       "<style scoped>\n",
       "    .dataframe tbody tr th:only-of-type {\n",
       "        vertical-align: middle;\n",
       "    }\n",
       "\n",
       "    .dataframe tbody tr th {\n",
       "        vertical-align: top;\n",
       "    }\n",
       "\n",
       "    .dataframe thead th {\n",
       "        text-align: right;\n",
       "    }\n",
       "</style>\n",
       "<table border=\"1\" class=\"dataframe\">\n",
       "  <thead>\n",
       "    <tr style=\"text-align: right;\">\n",
       "      <th></th>\n",
       "      <th>Time</th>\n",
       "      <th>V1</th>\n",
       "      <th>V2</th>\n",
       "      <th>V3</th>\n",
       "      <th>V4</th>\n",
       "      <th>V5</th>\n",
       "      <th>V6</th>\n",
       "      <th>V7</th>\n",
       "      <th>V8</th>\n",
       "      <th>V9</th>\n",
       "      <th>...</th>\n",
       "      <th>V21</th>\n",
       "      <th>V22</th>\n",
       "      <th>V23</th>\n",
       "      <th>V24</th>\n",
       "      <th>V25</th>\n",
       "      <th>V26</th>\n",
       "      <th>V27</th>\n",
       "      <th>V28</th>\n",
       "      <th>Amount</th>\n",
       "      <th>Class</th>\n",
       "    </tr>\n",
       "  </thead>\n",
       "  <tbody>\n",
       "    <tr>\n",
       "      <th>0</th>\n",
       "      <td>0.0</td>\n",
       "      <td>-1.359807</td>\n",
       "      <td>-0.072781</td>\n",
       "      <td>2.536347</td>\n",
       "      <td>1.378155</td>\n",
       "      <td>-0.338321</td>\n",
       "      <td>0.462388</td>\n",
       "      <td>0.239599</td>\n",
       "      <td>0.098698</td>\n",
       "      <td>0.363787</td>\n",
       "      <td>...</td>\n",
       "      <td>-0.018307</td>\n",
       "      <td>0.277838</td>\n",
       "      <td>-0.110474</td>\n",
       "      <td>0.066928</td>\n",
       "      <td>0.128539</td>\n",
       "      <td>-0.189115</td>\n",
       "      <td>0.133558</td>\n",
       "      <td>-0.021053</td>\n",
       "      <td>149.62</td>\n",
       "      <td>0</td>\n",
       "    </tr>\n",
       "    <tr>\n",
       "      <th>1</th>\n",
       "      <td>0.0</td>\n",
       "      <td>1.191857</td>\n",
       "      <td>0.266151</td>\n",
       "      <td>0.166480</td>\n",
       "      <td>0.448154</td>\n",
       "      <td>0.060018</td>\n",
       "      <td>-0.082361</td>\n",
       "      <td>-0.078803</td>\n",
       "      <td>0.085102</td>\n",
       "      <td>-0.255425</td>\n",
       "      <td>...</td>\n",
       "      <td>-0.225775</td>\n",
       "      <td>-0.638672</td>\n",
       "      <td>0.101288</td>\n",
       "      <td>-0.339846</td>\n",
       "      <td>0.167170</td>\n",
       "      <td>0.125895</td>\n",
       "      <td>-0.008983</td>\n",
       "      <td>0.014724</td>\n",
       "      <td>2.69</td>\n",
       "      <td>0</td>\n",
       "    </tr>\n",
       "    <tr>\n",
       "      <th>2</th>\n",
       "      <td>1.0</td>\n",
       "      <td>-1.358354</td>\n",
       "      <td>-1.340163</td>\n",
       "      <td>1.773209</td>\n",
       "      <td>0.379780</td>\n",
       "      <td>-0.503198</td>\n",
       "      <td>1.800499</td>\n",
       "      <td>0.791461</td>\n",
       "      <td>0.247676</td>\n",
       "      <td>-1.514654</td>\n",
       "      <td>...</td>\n",
       "      <td>0.247998</td>\n",
       "      <td>0.771679</td>\n",
       "      <td>0.909412</td>\n",
       "      <td>-0.689281</td>\n",
       "      <td>-0.327642</td>\n",
       "      <td>-0.139097</td>\n",
       "      <td>-0.055353</td>\n",
       "      <td>-0.059752</td>\n",
       "      <td>378.66</td>\n",
       "      <td>0</td>\n",
       "    </tr>\n",
       "    <tr>\n",
       "      <th>3</th>\n",
       "      <td>1.0</td>\n",
       "      <td>-0.966272</td>\n",
       "      <td>-0.185226</td>\n",
       "      <td>1.792993</td>\n",
       "      <td>-0.863291</td>\n",
       "      <td>-0.010309</td>\n",
       "      <td>1.247203</td>\n",
       "      <td>0.237609</td>\n",
       "      <td>0.377436</td>\n",
       "      <td>-1.387024</td>\n",
       "      <td>...</td>\n",
       "      <td>-0.108300</td>\n",
       "      <td>0.005274</td>\n",
       "      <td>-0.190321</td>\n",
       "      <td>-1.175575</td>\n",
       "      <td>0.647376</td>\n",
       "      <td>-0.221929</td>\n",
       "      <td>0.062723</td>\n",
       "      <td>0.061458</td>\n",
       "      <td>123.50</td>\n",
       "      <td>0</td>\n",
       "    </tr>\n",
       "    <tr>\n",
       "      <th>4</th>\n",
       "      <td>2.0</td>\n",
       "      <td>-1.158233</td>\n",
       "      <td>0.877737</td>\n",
       "      <td>1.548718</td>\n",
       "      <td>0.403034</td>\n",
       "      <td>-0.407193</td>\n",
       "      <td>0.095921</td>\n",
       "      <td>0.592941</td>\n",
       "      <td>-0.270533</td>\n",
       "      <td>0.817739</td>\n",
       "      <td>...</td>\n",
       "      <td>-0.009431</td>\n",
       "      <td>0.798278</td>\n",
       "      <td>-0.137458</td>\n",
       "      <td>0.141267</td>\n",
       "      <td>-0.206010</td>\n",
       "      <td>0.502292</td>\n",
       "      <td>0.219422</td>\n",
       "      <td>0.215153</td>\n",
       "      <td>69.99</td>\n",
       "      <td>0</td>\n",
       "    </tr>\n",
       "  </tbody>\n",
       "</table>\n",
       "<p>5 rows × 31 columns</p>\n",
       "</div>"
      ],
      "text/plain": [
       "   Time        V1        V2        V3        V4        V5        V6        V7  \\\n",
       "0   0.0 -1.359807 -0.072781  2.536347  1.378155 -0.338321  0.462388  0.239599   \n",
       "1   0.0  1.191857  0.266151  0.166480  0.448154  0.060018 -0.082361 -0.078803   \n",
       "2   1.0 -1.358354 -1.340163  1.773209  0.379780 -0.503198  1.800499  0.791461   \n",
       "3   1.0 -0.966272 -0.185226  1.792993 -0.863291 -0.010309  1.247203  0.237609   \n",
       "4   2.0 -1.158233  0.877737  1.548718  0.403034 -0.407193  0.095921  0.592941   \n",
       "\n",
       "         V8        V9  ...       V21       V22       V23       V24       V25  \\\n",
       "0  0.098698  0.363787  ... -0.018307  0.277838 -0.110474  0.066928  0.128539   \n",
       "1  0.085102 -0.255425  ... -0.225775 -0.638672  0.101288 -0.339846  0.167170   \n",
       "2  0.247676 -1.514654  ...  0.247998  0.771679  0.909412 -0.689281 -0.327642   \n",
       "3  0.377436 -1.387024  ... -0.108300  0.005274 -0.190321 -1.175575  0.647376   \n",
       "4 -0.270533  0.817739  ... -0.009431  0.798278 -0.137458  0.141267 -0.206010   \n",
       "\n",
       "        V26       V27       V28  Amount  Class  \n",
       "0 -0.189115  0.133558 -0.021053  149.62      0  \n",
       "1  0.125895 -0.008983  0.014724    2.69      0  \n",
       "2 -0.139097 -0.055353 -0.059752  378.66      0  \n",
       "3 -0.221929  0.062723  0.061458  123.50      0  \n",
       "4  0.502292  0.219422  0.215153   69.99      0  \n",
       "\n",
       "[5 rows x 31 columns]"
      ]
     },
     "execution_count": 3,
     "metadata": {},
     "output_type": "execute_result"
    }
   ],
   "source": [
    "#df = pd.read_csv('/content/drive/MyDrive/creditcard.csv')\n",
    "df = pd.read_csv('creditcard.csv')\n",
    "df.head()"
   ]
  },
  {
   "cell_type": "code",
   "execution_count": 4,
   "metadata": {
    "colab": {
     "base_uri": "https://localhost:8080/"
    },
    "id": "hl8q4X8m3DtN",
    "outputId": "257575ec-a8e7-4fc7-bb54-1ece405571ab"
   },
   "outputs": [
    {
     "data": {
      "text/plain": [
       "(284807, 31)"
      ]
     },
     "execution_count": 4,
     "metadata": {},
     "output_type": "execute_result"
    }
   ],
   "source": [
    "df.shape"
   ]
  },
  {
   "cell_type": "code",
   "execution_count": 5,
   "metadata": {
    "colab": {
     "base_uri": "https://localhost:8080/"
    },
    "id": "7N9okN213Gh6",
    "outputId": "5a8db172-70c1-4e2b-bb87-d36f01116cc4"
   },
   "outputs": [
    {
     "data": {
      "text/plain": [
       "Time      0\n",
       "V1        0\n",
       "V2        0\n",
       "V3        0\n",
       "V4        0\n",
       "V5        0\n",
       "V6        0\n",
       "V7        0\n",
       "V8        0\n",
       "V9        0\n",
       "V10       0\n",
       "V11       0\n",
       "V12       0\n",
       "V13       0\n",
       "V14       0\n",
       "V15       0\n",
       "V16       0\n",
       "V17       0\n",
       "V18       0\n",
       "V19       0\n",
       "V20       0\n",
       "V21       0\n",
       "V22       0\n",
       "V23       0\n",
       "V24       0\n",
       "V25       0\n",
       "V26       0\n",
       "V27       0\n",
       "V28       0\n",
       "Amount    0\n",
       "Class     0\n",
       "dtype: int64"
      ]
     },
     "execution_count": 5,
     "metadata": {},
     "output_type": "execute_result"
    }
   ],
   "source": [
    "df.isnull().sum()"
   ]
  },
  {
   "cell_type": "code",
   "execution_count": 6,
   "metadata": {
    "colab": {
     "base_uri": "https://localhost:8080/"
    },
    "id": "ysTTLyLV3IQU",
    "outputId": "f55fa95d-e9fd-422a-93e1-33aabc2b820e"
   },
   "outputs": [
    {
     "name": "stdout",
     "output_type": "stream",
     "text": [
      "<class 'pandas.core.frame.DataFrame'>\n",
      "RangeIndex: 284807 entries, 0 to 284806\n",
      "Data columns (total 31 columns):\n",
      " #   Column  Non-Null Count   Dtype  \n",
      "---  ------  --------------   -----  \n",
      " 0   Time    284807 non-null  float64\n",
      " 1   V1      284807 non-null  float64\n",
      " 2   V2      284807 non-null  float64\n",
      " 3   V3      284807 non-null  float64\n",
      " 4   V4      284807 non-null  float64\n",
      " 5   V5      284807 non-null  float64\n",
      " 6   V6      284807 non-null  float64\n",
      " 7   V7      284807 non-null  float64\n",
      " 8   V8      284807 non-null  float64\n",
      " 9   V9      284807 non-null  float64\n",
      " 10  V10     284807 non-null  float64\n",
      " 11  V11     284807 non-null  float64\n",
      " 12  V12     284807 non-null  float64\n",
      " 13  V13     284807 non-null  float64\n",
      " 14  V14     284807 non-null  float64\n",
      " 15  V15     284807 non-null  float64\n",
      " 16  V16     284807 non-null  float64\n",
      " 17  V17     284807 non-null  float64\n",
      " 18  V18     284807 non-null  float64\n",
      " 19  V19     284807 non-null  float64\n",
      " 20  V20     284807 non-null  float64\n",
      " 21  V21     284807 non-null  float64\n",
      " 22  V22     284807 non-null  float64\n",
      " 23  V23     284807 non-null  float64\n",
      " 24  V24     284807 non-null  float64\n",
      " 25  V25     284807 non-null  float64\n",
      " 26  V26     284807 non-null  float64\n",
      " 27  V27     284807 non-null  float64\n",
      " 28  V28     284807 non-null  float64\n",
      " 29  Amount  284807 non-null  float64\n",
      " 30  Class   284807 non-null  int64  \n",
      "dtypes: float64(30), int64(1)\n",
      "memory usage: 67.4 MB\n"
     ]
    }
   ],
   "source": [
    "df.info()"
   ]
  },
  {
   "cell_type": "markdown",
   "metadata": {
    "id": "0eiUEv_k5vNL"
   },
   "source": [
    "# Data Visualisation"
   ]
  },
  {
   "cell_type": "markdown",
   "metadata": {
    "id": "ItjaKoVI565z"
   },
   "source": [
    "### Distribution of Amount"
   ]
  },
  {
   "cell_type": "code",
   "execution_count": 7,
   "metadata": {
    "colab": {
     "base_uri": "https://localhost:8080/",
     "height": 532
    },
    "id": "pgLFr3EA5t-d",
    "outputId": "b037eb40-6dad-43e3-e343-e3abc5f9d660"
   },
   "outputs": [
    {
     "data": {
      "text/plain": [
       "Text(0.5, 1.0, 'Boxplot for Amount')"
      ]
     },
     "execution_count": 7,
     "metadata": {},
     "output_type": "execute_result"
    },
    {
     "data": {
      "image/png": "[encoded data removed]",
      "text/plain": [
       "<Figure size 936x576 with 2 Axes>"
      ]
     },
     "metadata": {
      "needs_background": "light"
     },
     "output_type": "display_data"
    }
   ],
   "source": [
    "fig , (ax1 , ax2) = plt.subplots(1,2,figsize= (13,8))\n",
    "sns.kdeplot(df[df['Class']==0]['Amount'],ax = ax1 , color = '#3D087B',legend=True,shade=True,alpha=1)\n",
    "ax1.set_title('Distribution plot of the Amount' , fontsize = 16)\n",
    "\n",
    "sns.boxplot(df['Amount'] , orient= 'v' , ax = ax2)\n",
    "ax2.set_title('Boxplot for Amount', fontsize = 16)"
   ]
  },
  {
   "cell_type": "markdown",
   "metadata": {
    "id": "HtmpKATLAqD1"
   },
   "source": [
    "#### So many outliers detected in the amount"
   ]
  },
  {
   "cell_type": "markdown",
   "metadata": {
    "id": "kIKu40iN7GSZ"
   },
   "source": [
    "### Distribution of Time"
   ]
  },
  {
   "cell_type": "code",
   "execution_count": 8,
   "metadata": {
    "colab": {
     "base_uri": "https://localhost:8080/",
     "height": 532
    },
    "id": "qbiXbJmC5uB5",
    "outputId": "720fb704-6ed6-4c1b-ca24-5312f6dbe226"
   },
   "outputs": [
    {
     "data": {
      "text/plain": [
       "Text(0.5, 1.0, 'Boxplot for Time')"
      ]
     },
     "execution_count": 8,
     "metadata": {},
     "output_type": "execute_result"
    },
    {
     "data": {
      "image/png": "[encoded data removed]",
      "text/plain": [
       "<Figure size 936x576 with 2 Axes>"
      ]
     },
     "metadata": {
      "needs_background": "light"
     },
     "output_type": "display_data"
    }
   ],
   "source": [
    "fig , (ax1 , ax2) = plt.subplots(1,2,figsize= (13,8))\n",
    "sns.kdeplot(df[df['Class']==0]['Time'],ax = ax1 , color = '#3D087B',legend=True,shade=True,alpha=1)\n",
    "ax1.set_title('Distribution plot of Time' , fontsize = 16)\n",
    "\n",
    "sns.boxplot(df['Time'] , orient= 'v' , ax = ax2)\n",
    "ax2.set_title('Boxplot for Time', fontsize = 16)"
   ]
  },
  {
   "cell_type": "markdown",
   "metadata": {
    "id": "0gQJW4B27LlV"
   },
   "source": [
    "#### No outliers detected in Time"
   ]
  },
  {
   "cell_type": "markdown",
   "metadata": {
    "id": "90sFh4PN7P86"
   },
   "source": [
    "### Correlation plot"
   ]
  },
  {
   "cell_type": "code",
   "execution_count": 9,
   "metadata": {
    "colab": {
     "base_uri": "https://localhost:8080/",
     "height": 934
    },
    "id": "HCuTfF6d5uFP",
    "outputId": "76db9bb5-eace-48c6-d690-2d58e80bff63"
   },
   "outputs": [
    {
     "data": {
      "text/plain": [
       "Text(0.5, 1.0, 'Heatmap of Correlation among attributes')"
      ]
     },
     "execution_count": 9,
     "metadata": {},
     "output_type": "execute_result"
    },
    {
     "data": {
      "image/png": "[encoded data removed]",
      "text/plain": [
       "<Figure size 1440x1080 with 2 Axes>"
      ]
     },
     "metadata": {
      "needs_background": "light"
     },
     "output_type": "display_data"
    }
   ],
   "source": [
    "plt.figure(figsize = (20,15))\n",
    "sns.heatmap(df.corr() , annot = False , cmap = 'Blues')\n",
    "plt.title('Heatmap of Correlation among attributes' , fontsize = 24)"
   ]
  },
  {
   "cell_type": "code",
   "execution_count": 10,
   "metadata": {
    "colab": {
     "base_uri": "https://localhost:8080/",
     "height": 532
    },
    "id": "fzuPhz2R5uIV",
    "outputId": "026bc69f-6918-482f-f16c-5ceac6722e71"
   },
   "outputs": [
    {
     "data": {
      "text/plain": [
       "Text(0.5, 1.0, 'Amount vs Time')"
      ]
     },
     "execution_count": 10,
     "metadata": {},
     "output_type": "execute_result"
    },
    {
     "data": {
      "image/png": "[encoded data removed]",
      "text/plain": [
       "<Figure size 936x576 with 1 Axes>"
      ]
     },
     "metadata": {
      "needs_background": "light"
     },
     "output_type": "display_data"
    }
   ],
   "source": [
    "plt.figure(figsize= (13,8))\n",
    "sns.scatterplot(y = df['Amount'] , x = df['Time'] , hue = df['Class'])\n",
    "plt.title('Amount vs Time', fontsize = 16)"
   ]
  },
  {
   "cell_type": "markdown",
   "metadata": {
    "id": "ioqEqzb23lje"
   },
   "source": [
    "# Checking Class Imbalance"
   ]
  },
  {
   "cell_type": "code",
   "execution_count": 11,
   "metadata": {
    "colab": {
     "base_uri": "https://localhost:8080/",
     "height": 342
    },
    "id": "x1vKAZSy3Ntu",
    "outputId": "39efeea3-6793-4cff-e118-5f340463427d"
   },
   "outputs": [
    {
     "name": "stdout",
     "output_type": "stream",
     "text": [
      "0    0.998273\n",
      "1    0.001727\n",
      "Name: Class, dtype: float64\n"
     ]
    },
    {
     "data": {
      "image/png": "[encoded data removed]",
      "text/plain": [
       "<Figure size 432x288 with 1 Axes>"
      ]
     },
     "metadata": {
      "needs_background": "light"
     },
     "output_type": "display_data"
    }
   ],
   "source": [
    "# Check target classes balancec\n",
    "cla_bal = df['Class'].value_counts(normalize=True)\n",
    "print(cla_bal)\n",
    "\n",
    "# Plot the classes\n",
    "cla_bal.plot(kind = 'bar')\n",
    "plt.title('Nondefault(0) and default(1) comparison',fontweight = \"bold\")\n",
    "plt.xlabel('Classes')\n",
    "plt.ylabel('Percentage')\n",
    "plt.show()"
   ]
  },
  {
   "cell_type": "markdown",
   "metadata": {
    "id": "hHtH9saK39yY"
   },
   "source": [
    "### It can be observed that only 0.17% transactions accounts for fraud."
   ]
  },
  {
   "cell_type": "markdown",
   "metadata": {
    "id": "-mTz99fx_bdI"
   },
   "source": [
    "# Standardizing Amount and Time"
   ]
  },
  {
   "cell_type": "markdown",
   "metadata": {
    "id": "X6GDMVGwAz5V"
   },
   "source": [
    "#### Since there are a number of outliers present in Amount , we will use Robust Scaler instead of Standard Scaler"
   ]
  },
  {
   "cell_type": "code",
   "execution_count": 12,
   "metadata": {
    "colab": {
     "base_uri": "https://localhost:8080/",
     "height": 223
    },
    "id": "kV1lKdth_ZqV",
    "outputId": "8cf7998c-de7f-4692-81ac-dc29136c3b2f"
   },
   "outputs": [
    {
     "data": {
      "text/html": [
       "<div>\n",
       "<style scoped>\n",
       "    .dataframe tbody tr th:only-of-type {\n",
       "        vertical-align: middle;\n",
       "    }\n",
       "\n",
       "    .dataframe tbody tr th {\n",
       "        vertical-align: top;\n",
       "    }\n",
       "\n",
       "    .dataframe thead th {\n",
       "        text-align: right;\n",
       "    }\n",
       "</style>\n",
       "<table border=\"1\" class=\"dataframe\">\n",
       "  <thead>\n",
       "    <tr style=\"text-align: right;\">\n",
       "      <th></th>\n",
       "      <th>Time</th>\n",
       "      <th>V1</th>\n",
       "      <th>V2</th>\n",
       "      <th>V3</th>\n",
       "      <th>V4</th>\n",
       "      <th>V5</th>\n",
       "      <th>V6</th>\n",
       "      <th>V7</th>\n",
       "      <th>V8</th>\n",
       "      <th>V9</th>\n",
       "      <th>...</th>\n",
       "      <th>V21</th>\n",
       "      <th>V22</th>\n",
       "      <th>V23</th>\n",
       "      <th>V24</th>\n",
       "      <th>V25</th>\n",
       "      <th>V26</th>\n",
       "      <th>V27</th>\n",
       "      <th>V28</th>\n",
       "      <th>Amount</th>\n",
       "      <th>Class</th>\n",
       "    </tr>\n",
       "  </thead>\n",
       "  <tbody>\n",
       "    <tr>\n",
       "      <th>0</th>\n",
       "      <td>-0.994983</td>\n",
       "      <td>-1.359807</td>\n",
       "      <td>-0.072781</td>\n",
       "      <td>2.536347</td>\n",
       "      <td>1.378155</td>\n",
       "      <td>-0.338321</td>\n",
       "      <td>0.462388</td>\n",
       "      <td>0.239599</td>\n",
       "      <td>0.098698</td>\n",
       "      <td>0.363787</td>\n",
       "      <td>...</td>\n",
       "      <td>-0.018307</td>\n",
       "      <td>0.277838</td>\n",
       "      <td>-0.110474</td>\n",
       "      <td>0.066928</td>\n",
       "      <td>0.128539</td>\n",
       "      <td>-0.189115</td>\n",
       "      <td>0.133558</td>\n",
       "      <td>-0.021053</td>\n",
       "      <td>1.783274</td>\n",
       "      <td>0</td>\n",
       "    </tr>\n",
       "    <tr>\n",
       "      <th>1</th>\n",
       "      <td>-0.994983</td>\n",
       "      <td>1.191857</td>\n",
       "      <td>0.266151</td>\n",
       "      <td>0.166480</td>\n",
       "      <td>0.448154</td>\n",
       "      <td>0.060018</td>\n",
       "      <td>-0.082361</td>\n",
       "      <td>-0.078803</td>\n",
       "      <td>0.085102</td>\n",
       "      <td>-0.255425</td>\n",
       "      <td>...</td>\n",
       "      <td>-0.225775</td>\n",
       "      <td>-0.638672</td>\n",
       "      <td>0.101288</td>\n",
       "      <td>-0.339846</td>\n",
       "      <td>0.167170</td>\n",
       "      <td>0.125895</td>\n",
       "      <td>-0.008983</td>\n",
       "      <td>0.014724</td>\n",
       "      <td>-0.269825</td>\n",
       "      <td>0</td>\n",
       "    </tr>\n",
       "    <tr>\n",
       "      <th>2</th>\n",
       "      <td>-0.994972</td>\n",
       "      <td>-1.358354</td>\n",
       "      <td>-1.340163</td>\n",
       "      <td>1.773209</td>\n",
       "      <td>0.379780</td>\n",
       "      <td>-0.503198</td>\n",
       "      <td>1.800499</td>\n",
       "      <td>0.791461</td>\n",
       "      <td>0.247676</td>\n",
       "      <td>-1.514654</td>\n",
       "      <td>...</td>\n",
       "      <td>0.247998</td>\n",
       "      <td>0.771679</td>\n",
       "      <td>0.909412</td>\n",
       "      <td>-0.689281</td>\n",
       "      <td>-0.327642</td>\n",
       "      <td>-0.139097</td>\n",
       "      <td>-0.055353</td>\n",
       "      <td>-0.059752</td>\n",
       "      <td>4.983721</td>\n",
       "      <td>0</td>\n",
       "    </tr>\n",
       "    <tr>\n",
       "      <th>3</th>\n",
       "      <td>-0.994972</td>\n",
       "      <td>-0.966272</td>\n",
       "      <td>-0.185226</td>\n",
       "      <td>1.792993</td>\n",
       "      <td>-0.863291</td>\n",
       "      <td>-0.010309</td>\n",
       "      <td>1.247203</td>\n",
       "      <td>0.237609</td>\n",
       "      <td>0.377436</td>\n",
       "      <td>-1.387024</td>\n",
       "      <td>...</td>\n",
       "      <td>-0.108300</td>\n",
       "      <td>0.005274</td>\n",
       "      <td>-0.190321</td>\n",
       "      <td>-1.175575</td>\n",
       "      <td>0.647376</td>\n",
       "      <td>-0.221929</td>\n",
       "      <td>0.062723</td>\n",
       "      <td>0.061458</td>\n",
       "      <td>1.418291</td>\n",
       "      <td>0</td>\n",
       "    </tr>\n",
       "    <tr>\n",
       "      <th>4</th>\n",
       "      <td>-0.994960</td>\n",
       "      <td>-1.158233</td>\n",
       "      <td>0.877737</td>\n",
       "      <td>1.548718</td>\n",
       "      <td>0.403034</td>\n",
       "      <td>-0.407193</td>\n",
       "      <td>0.095921</td>\n",
       "      <td>0.592941</td>\n",
       "      <td>-0.270533</td>\n",
       "      <td>0.817739</td>\n",
       "      <td>...</td>\n",
       "      <td>-0.009431</td>\n",
       "      <td>0.798278</td>\n",
       "      <td>-0.137458</td>\n",
       "      <td>0.141267</td>\n",
       "      <td>-0.206010</td>\n",
       "      <td>0.502292</td>\n",
       "      <td>0.219422</td>\n",
       "      <td>0.215153</td>\n",
       "      <td>0.670579</td>\n",
       "      <td>0</td>\n",
       "    </tr>\n",
       "  </tbody>\n",
       "</table>\n",
       "<p>5 rows × 31 columns</p>\n",
       "</div>"
      ],
      "text/plain": [
       "       Time        V1        V2        V3        V4        V5        V6  \\\n",
       "0 -0.994983 -1.359807 -0.072781  2.536347  1.378155 -0.338321  0.462388   \n",
       "1 -0.994983  1.191857  0.266151  0.166480  0.448154  0.060018 -0.082361   \n",
       "2 -0.994972 -1.358354 -1.340163  1.773209  0.379780 -0.503198  1.800499   \n",
       "3 -0.994972 -0.966272 -0.185226  1.792993 -0.863291 -0.010309  1.247203   \n",
       "4 -0.994960 -1.158233  0.877737  1.548718  0.403034 -0.407193  0.095921   \n",
       "\n",
       "         V7        V8        V9  ...       V21       V22       V23       V24  \\\n",
       "0  0.239599  0.098698  0.363787  ... -0.018307  0.277838 -0.110474  0.066928   \n",
       "1 -0.078803  0.085102 -0.255425  ... -0.225775 -0.638672  0.101288 -0.339846   \n",
       "2  0.791461  0.247676 -1.514654  ...  0.247998  0.771679  0.909412 -0.689281   \n",
       "3  0.237609  0.377436 -1.387024  ... -0.108300  0.005274 -0.190321 -1.175575   \n",
       "4  0.592941 -0.270533  0.817739  ... -0.009431  0.798278 -0.137458  0.141267   \n",
       "\n",
       "        V25       V26       V27       V28    Amount  Class  \n",
       "0  0.128539 -0.189115  0.133558 -0.021053  1.783274      0  \n",
       "1  0.167170  0.125895 -0.008983  0.014724 -0.269825      0  \n",
       "2 -0.327642 -0.139097 -0.055353 -0.059752  4.983721      0  \n",
       "3  0.647376 -0.221929  0.062723  0.061458  1.418291      0  \n",
       "4 -0.206010  0.502292  0.219422  0.215153  0.670579      0  \n",
       "\n",
       "[5 rows x 31 columns]"
      ]
     },
     "execution_count": 12,
     "metadata": {},
     "output_type": "execute_result"
    }
   ],
   "source": [
    "from sklearn.preprocessing import RobustScaler\n",
    "scale = RobustScaler()\n",
    "df['Amount'] = scale.fit_transform(df['Amount'].values.reshape(-1,1))\n",
    "df['Time'] = scale.fit_transform(df['Time'].values.reshape(-1,1))\n",
    "df.head()"
   ]
  },
  {
   "cell_type": "markdown",
   "metadata": {
    "id": "fR4rRLSp_GKD"
   },
   "source": [
    "# Separating target variable"
   ]
  },
  {
   "cell_type": "code",
   "execution_count": 13,
   "metadata": {
    "id": "Ws0LDV1K5Kj7"
   },
   "outputs": [],
   "source": [
    "X = df.drop(['Class'], axis = 1)\n",
    "y = df['Class']"
   ]
  },
  {
   "cell_type": "markdown",
   "metadata": {
    "id": "4PczkpkM4eXz"
   },
   "source": [
    "# Handling imbalanced class"
   ]
  },
  {
   "cell_type": "code",
   "execution_count": 14,
   "metadata": {
    "id": "DAQ2kVMq389B"
   },
   "outputs": [],
   "source": [
    "from imblearn.over_sampling import SMOTE"
   ]
  },
  {
   "cell_type": "code",
   "execution_count": 15,
   "metadata": {
    "id": "AYmt2Gi-4oHE"
   },
   "outputs": [],
   "source": [
    "sm = SMOTE(random_state= 42)"
   ]
  },
  {
   "cell_type": "code",
   "execution_count": 16,
   "metadata": {
    "id": "brCX6nfeBgLg"
   },
   "outputs": [],
   "source": [
    "X , y = sm.fit_resample(X , y.ravel())"
   ]
  },
  {
   "cell_type": "code",
   "execution_count": 17,
   "metadata": {
    "colab": {
     "base_uri": "https://localhost:8080/",
     "height": 342
    },
    "id": "qMcbmYxfCn5P",
    "outputId": "966410dd-5f9d-4e6e-a4db-6f560c011a55"
   },
   "outputs": [
    {
     "name": "stdout",
     "output_type": "stream",
     "text": [
      "1    0.5\n",
      "0    0.5\n",
      "Name: Class, dtype: float64\n"
     ]
    },
    {
     "data": {
      "image/png": "[encoded data removed]",
      "text/plain": [
       "<Figure size 432x288 with 1 Axes>"
      ]
     },
     "metadata": {
      "needs_background": "light"
     },
     "output_type": "display_data"
    }
   ],
   "source": [
    "# Check target classes balancec\n",
    "df2 = pd.DataFrame(y , columns= ['Class'])\n",
    "cla_bal = df2['Class'].value_counts(normalize=True)\n",
    "print(cla_bal)\n",
    "\n",
    "# Plot the classes\n",
    "cla_bal.plot(kind = 'bar')\n",
    "plt.title('Nondefault(0) and default(1) comparison',fontweight = \"bold\")\n",
    "plt.xlabel('Classes')\n",
    "plt.ylabel('Percentage')\n",
    "plt.show()"
   ]
  },
  {
   "cell_type": "markdown",
   "metadata": {
    "id": "eyyEEPONBB9R"
   },
   "source": [
    "# Splitting into training and testing"
   ]
  },
  {
   "cell_type": "code",
   "execution_count": 18,
   "metadata": {
    "id": "7CfYQGh8_0px"
   },
   "outputs": [],
   "source": [
    "X_train , X_test , y_train , y_test = train_test_split(X,y , test_size = 0.30 , random_state = 42)"
   ]
  },
  {
   "cell_type": "code",
   "execution_count": 19,
   "metadata": {
    "colab": {
     "base_uri": "https://localhost:8080/"
    },
    "id": "avZxlUgZBWhP",
    "outputId": "1285967d-98e0-499c-b1cf-24709b07547d"
   },
   "outputs": [
    {
     "name": "stdout",
     "output_type": "stream",
     "text": [
      "(398041, 30) \n",
      " (170589, 30) \n",
      " (398041,) \n",
      " (170589,)\n"
     ]
    }
   ],
   "source": [
    "print(X_train.shape , '\\n' , X_test.shape , '\\n', y_train.shape , '\\n' , y_test.shape)"
   ]
  },
  {
   "cell_type": "markdown",
   "metadata": {
    "id": "5N2FJOgXfxUh"
   },
   "source": [
    "# Modelling"
   ]
  },
  {
   "cell_type": "markdown",
   "metadata": {
    "id": "c-sUO7Wlf0m-"
   },
   "source": [
    "## 1. Logistic Regression"
   ]
  },
  {
   "cell_type": "code",
   "execution_count": 20,
   "metadata": {
    "id": "5H5mVsRuflUo"
   },
   "outputs": [],
   "source": [
    "clf_lr = LogisticRegression(random_state = 42)"
   ]
  },
  {
   "cell_type": "code",
   "execution_count": 21,
   "metadata": {
    "colab": {
     "base_uri": "https://localhost:8080/"
    },
    "id": "YzA5JL63g0ig",
    "outputId": "22f349dc-52db-46a4-d399-8b69d6d35638"
   },
   "outputs": [
    {
     "data": {
      "text/plain": [
       "LogisticRegression(random_state=42)"
      ]
     },
     "execution_count": 21,
     "metadata": {},
     "output_type": "execute_result"
    }
   ],
   "source": [
    "clf_lr.fit(X_train , y_train)"
   ]
  },
  {
   "cell_type": "code",
   "execution_count": 22,
   "metadata": {
    "id": "opLu_w_vhLP3"
   },
   "outputs": [],
   "source": [
    "scores = cross_val_score(clf_lr , X_train , y_train , scoring = \"roc_auc\" , cv = 10)\n",
    "roc_auc_lr = np.mean(scores)"
   ]
  },
  {
   "cell_type": "code",
   "execution_count": 23,
   "metadata": {
    "id": "gbwfDer1iqKY"
   },
   "outputs": [],
   "source": [
    "# Creating a dataframe to keep record of auc scores\n",
    "model = []\n",
    "roc_auc = []\n",
    "def performance(new_model , new_score):\n",
    "    model.append(new_model)\n",
    "    roc_auc.append(new_score)\n",
    "    score_df = pd.DataFrame(zip(model , roc_auc) , columns = ['Model', 'ROC_AUC_Score'])\n",
    "    #print(score_df)\n",
    "    return score_df"
   ]
  },
  {
   "cell_type": "code",
   "execution_count": 24,
   "metadata": {
    "colab": {
     "base_uri": "https://localhost:8080/"
    },
    "id": "Xl46n9_hjqJA",
    "outputId": "47f1b77a-46b5-4aa8-ad4e-1e50a30c8862"
   },
   "outputs": [
    {
     "data": {
      "text/html": [
       "<div>\n",
       "<style scoped>\n",
       "    .dataframe tbody tr th:only-of-type {\n",
       "        vertical-align: middle;\n",
       "    }\n",
       "\n",
       "    .dataframe tbody tr th {\n",
       "        vertical-align: top;\n",
       "    }\n",
       "\n",
       "    .dataframe thead th {\n",
       "        text-align: right;\n",
       "    }\n",
       "</style>\n",
       "<table border=\"1\" class=\"dataframe\">\n",
       "  <thead>\n",
       "    <tr style=\"text-align: right;\">\n",
       "      <th></th>\n",
       "      <th>Model</th>\n",
       "      <th>ROC_AUC_Score</th>\n",
       "    </tr>\n",
       "  </thead>\n",
       "  <tbody>\n",
       "    <tr>\n",
       "      <th>0</th>\n",
       "      <td>Logistic Regression</td>\n",
       "      <td>0.98927</td>\n",
       "    </tr>\n",
       "  </tbody>\n",
       "</table>\n",
       "</div>"
      ],
      "text/plain": [
       "                 Model  ROC_AUC_Score\n",
       "0  Logistic Regression        0.98927"
      ]
     },
     "execution_count": 24,
     "metadata": {},
     "output_type": "execute_result"
    }
   ],
   "source": [
    "performance('Logistic Regression', roc_auc_lr)"
   ]
  },
  {
   "cell_type": "code",
   "execution_count": 25,
   "metadata": {
    "id": "YB_d6TtrkylZ"
   },
   "outputs": [],
   "source": [
    "# Define a function to compute Precision, Recall and F1 score\n",
    "precision_list = []\n",
    "recall_list = []\n",
    "F1_list = []\n",
    "def get_pre_rec_f1(model):\n",
    "    y_pred = model.predict(X_test)\n",
    "    tp, fp, fn, tn = confusion_matrix(y_test, y_pred).ravel()\n",
    "    \n",
    "    precision = tp / (tp + fp)\n",
    "    precision_list.append(precision)\n",
    "    recall = tp / (tp + fn)\n",
    "    recall_list.append(recall)\n",
    "    F1 = (2 * precision * recall) / (precision + recall)\n",
    "    F1_list.append(F1)\n",
    "    evaluation_df = pd.DataFrame(zip(precision_list , recall_list , F1_list) , columns = ['Precision', 'Recall', 'F1_Score'])\n",
    "    print(f'Precision:{precision:.3f}\\nRecall:{recall:.3f}\\nF1 score:{F1:.3f}')\n",
    "    return evaluation_df"
   ]
  },
  {
   "cell_type": "code",
   "execution_count": 26,
   "metadata": {
    "colab": {
     "base_uri": "https://localhost:8080/"
    },
    "id": "Wsn_qo75llED",
    "outputId": "1776f261-b8fa-4d73-bf7c-e58fa7ee0338"
   },
   "outputs": [
    {
     "name": "stdout",
     "output_type": "stream",
     "text": [
      "Precision:0.976\n",
      "Recall:0.927\n",
      "F1 score:0.951\n"
     ]
    },
    {
     "data": {
      "text/html": [
       "<div>\n",
       "<style scoped>\n",
       "    .dataframe tbody tr th:only-of-type {\n",
       "        vertical-align: middle;\n",
       "    }\n",
       "\n",
       "    .dataframe tbody tr th {\n",
       "        vertical-align: top;\n",
       "    }\n",
       "\n",
       "    .dataframe thead th {\n",
       "        text-align: right;\n",
       "    }\n",
       "</style>\n",
       "<table border=\"1\" class=\"dataframe\">\n",
       "  <thead>\n",
       "    <tr style=\"text-align: right;\">\n",
       "      <th></th>\n",
       "      <th>Precision</th>\n",
       "      <th>Recall</th>\n",
       "      <th>F1_Score</th>\n",
       "    </tr>\n",
       "  </thead>\n",
       "  <tbody>\n",
       "    <tr>\n",
       "      <th>0</th>\n",
       "      <td>0.975913</td>\n",
       "      <td>0.927185</td>\n",
       "      <td>0.950925</td>\n",
       "    </tr>\n",
       "  </tbody>\n",
       "</table>\n",
       "</div>"
      ],
      "text/plain": [
       "   Precision    Recall  F1_Score\n",
       "0   0.975913  0.927185  0.950925"
      ]
     },
     "execution_count": 26,
     "metadata": {},
     "output_type": "execute_result"
    }
   ],
   "source": [
    "# Calculate precision, recall and F1 of Logistic Regression Model\n",
    "get_pre_rec_f1(clf_lr)"
   ]
  },
  {
   "cell_type": "markdown",
   "metadata": {
    "id": "xlXILNq1mIHP"
   },
   "source": [
    "Logistic Regression performed really well on this dataset. But lets keep checking the performance of other models if they can perform better"
   ]
  },
  {
   "cell_type": "markdown",
   "metadata": {
    "id": "ixiBUTR2mXMx"
   },
   "source": [
    "## 2. Random Forest"
   ]
  },
  {
   "cell_type": "code",
   "execution_count": 27,
   "metadata": {
    "colab": {
     "base_uri": "https://localhost:8080/"
    },
    "id": "KOkKaRoPmE1z",
    "outputId": "8a3b2a3b-cf99-4f94-f5ae-5e8ae7ff5284"
   },
   "outputs": [],
   "source": [
    "# # Hyperparameter tuning\n",
    "\n",
    "# # Create parameter grid  \n",
    "# param_grid = {\n",
    "#     'max_depth': [60, 90, 110],\n",
    "#     'min_samples_leaf': [3, 4, 5],\n",
    "#     'min_samples_split': [8, 10, 12],\n",
    "#     'n_estimators': [100, 200, 300]\n",
    "# }\n",
    "\n",
    "# # Instantiate the model\n",
    "# clf_rf = RandomForestClassifier()\n",
    "\n",
    "# # Instantiate grid search model\n",
    "# grid_search = GridSearchCV(estimator = clf_rf, param_grid = param_grid,    \n",
    "#                           cv = 3, n_jobs = -1, verbose = 1)\n",
    "\n",
    "# # Fit grid search to the data\n",
    "# grid_search.fit(X_train, y_train)\n",
    "# grid_search.best_params_"
   ]
  },
  {
   "cell_type": "code",
   "execution_count": 28,
   "metadata": {
    "id": "0OEnXAg-ms3y"
   },
   "outputs": [],
   "source": [
    "# # Use the best parameters to fit the model\n",
    "\n",
    "# clf_rf = RandomForestClassifier(**grid_search.best_params_)   \n",
    "# clf_rf.fit(X_train,y_train)\n",
    "\n",
    "# scores = cross_val_score(clf_rf, X_train, y_train, scoring =\"roc_auc\", cv = 5)\n",
    "# roc_auc_rf = np.mean(scores)\n",
    "# performance('Random Forest', scores)"
   ]
  },
  {
   "cell_type": "code",
   "execution_count": 29,
   "metadata": {},
   "outputs": [
    {
     "data": {
      "text/html": [
       "<div>\n",
       "<style scoped>\n",
       "    .dataframe tbody tr th:only-of-type {\n",
       "        vertical-align: middle;\n",
       "    }\n",
       "\n",
       "    .dataframe tbody tr th {\n",
       "        vertical-align: top;\n",
       "    }\n",
       "\n",
       "    .dataframe thead th {\n",
       "        text-align: right;\n",
       "    }\n",
       "</style>\n",
       "<table border=\"1\" class=\"dataframe\">\n",
       "  <thead>\n",
       "    <tr style=\"text-align: right;\">\n",
       "      <th></th>\n",
       "      <th>Model</th>\n",
       "      <th>ROC_AUC_Score</th>\n",
       "    </tr>\n",
       "  </thead>\n",
       "  <tbody>\n",
       "    <tr>\n",
       "      <th>0</th>\n",
       "      <td>Logistic Regression</td>\n",
       "      <td>0.989270</td>\n",
       "    </tr>\n",
       "    <tr>\n",
       "      <th>1</th>\n",
       "      <td>Random Forest</td>\n",
       "      <td>0.999987</td>\n",
       "    </tr>\n",
       "  </tbody>\n",
       "</table>\n",
       "</div>"
      ],
      "text/plain": [
       "                 Model  ROC_AUC_Score\n",
       "0  Logistic Regression       0.989270\n",
       "1        Random Forest       0.999987"
      ]
     },
     "execution_count": 29,
     "metadata": {},
     "output_type": "execute_result"
    }
   ],
   "source": [
    "# Use the best parameters to fit the model\n",
    "\n",
    "clf_rf = RandomForestClassifier(max_depth = 30 , min_samples_leaf = 4 , min_samples_split = 8 , n_estimators = 20)   \n",
    "clf_rf.fit(X_train,y_train)\n",
    "\n",
    "scores = cross_val_score(clf_rf, X_train, y_train, scoring =\"roc_auc\", cv = 5)\n",
    "roc_auc_rf = np.mean(scores)\n",
    "performance('Random Forest', roc_auc_rf)"
   ]
  },
  {
   "cell_type": "code",
   "execution_count": 30,
   "metadata": {},
   "outputs": [
    {
     "name": "stdout",
     "output_type": "stream",
     "text": [
      "Precision:1.000\n",
      "Recall:1.000\n",
      "F1 score:1.000\n"
     ]
    },
    {
     "data": {
      "text/html": [
       "<div>\n",
       "<style scoped>\n",
       "    .dataframe tbody tr th:only-of-type {\n",
       "        vertical-align: middle;\n",
       "    }\n",
       "\n",
       "    .dataframe tbody tr th {\n",
       "        vertical-align: top;\n",
       "    }\n",
       "\n",
       "    .dataframe thead th {\n",
       "        text-align: right;\n",
       "    }\n",
       "</style>\n",
       "<table border=\"1\" class=\"dataframe\">\n",
       "  <thead>\n",
       "    <tr style=\"text-align: right;\">\n",
       "      <th></th>\n",
       "      <th>Precision</th>\n",
       "      <th>Recall</th>\n",
       "      <th>F1_Score</th>\n",
       "    </tr>\n",
       "  </thead>\n",
       "  <tbody>\n",
       "    <tr>\n",
       "      <th>0</th>\n",
       "      <td>0.975913</td>\n",
       "      <td>0.927185</td>\n",
       "      <td>0.950925</td>\n",
       "    </tr>\n",
       "    <tr>\n",
       "      <th>1</th>\n",
       "      <td>0.999612</td>\n",
       "      <td>1.000000</td>\n",
       "      <td>0.999806</td>\n",
       "    </tr>\n",
       "  </tbody>\n",
       "</table>\n",
       "</div>"
      ],
      "text/plain": [
       "   Precision    Recall  F1_Score\n",
       "0   0.975913  0.927185  0.950925\n",
       "1   0.999612  1.000000  0.999806"
      ]
     },
     "execution_count": 30,
     "metadata": {},
     "output_type": "execute_result"
    }
   ],
   "source": [
    "get_pre_rec_f1(clf_rf)"
   ]
  },
  {
   "cell_type": "markdown",
   "metadata": {},
   "source": [
    "## 3. XGBoost"
   ]
  },
  {
   "cell_type": "code",
   "execution_count": 31,
   "metadata": {},
   "outputs": [],
   "source": [
    "from sklearn.model_selection import RandomizedSearchCV"
   ]
  },
  {
   "cell_type": "code",
   "execution_count": 32,
   "metadata": {},
   "outputs": [
    {
     "name": "stdout",
     "output_type": "stream",
     "text": [
      "{'n_estimators': 10, 'gamma': array([0.1, 0.2, 0.3, 0.4]), 'learning_rate': 0.1, 'max_depth': 3, 'subsample': 0.5, 'colsample_bytree': 0.5, 'scale_pos_weight': [1, 3.5]}\n"
     ]
    }
   ],
   "source": [
    "# Number of trees\n",
    "n_estimators = 10\n",
    "\n",
    "# Minimum loss reduction required to make a further partition on a leaf node of the tree\n",
    "# The larger gamma is, the more conservative the algorithm will be\n",
    "gamma = np.arange(0.1,0.4,0.1)\n",
    "\n",
    "# Default 0.3, range(0,1)\n",
    "learning_rate = 0.1\n",
    "\n",
    "# Maximum number of levels in tree\n",
    "max_depth = 3\n",
    "\n",
    "# Subsample ratio of the training instances.Range(0,1)\n",
    "subsample = 0.5\n",
    "\n",
    "# Subsample ratio of columns when constructing each tree. Range(0,1)\n",
    "colsample_bytree = 0.5\n",
    "\n",
    "# Control the balance of positive and negative weights\n",
    "# Sum(negative instances) / sum(positive instances)\n",
    "scale_pos_weight = [1,3.5]\n",
    "\n",
    "\n",
    "# Create the random grid\n",
    "random_grid_xgb = {'n_estimators': n_estimators,\n",
    "                   'gamma': gamma,\n",
    "                   'learning_rate':learning_rate,\n",
    "                   'max_depth': max_depth,\n",
    "                   'subsample':subsample,\n",
    "                   'colsample_bytree':colsample_bytree,\n",
    "                   'scale_pos_weight':scale_pos_weight\n",
    "                  }\n",
    "print(random_grid_xgb)"
   ]
  },
  {
   "cell_type": "code",
   "execution_count": 33,
   "metadata": {},
   "outputs": [],
   "source": [
    "# # Use randomized search to find best parameters\n",
    "\n",
    "# xgboost = XGBClassifier()\n",
    "# xgb_random = RandomizedSearchCV(estimator = xgboost, \n",
    "#                                 param_distributions = random_grid_xgb, \n",
    "#                                 n_iter = 5, \n",
    "#                                 cv = 3, \n",
    "#                                 verbose=1, \n",
    "#                                 random_state=42, \n",
    "#                                 n_jobs = -1,\n",
    "#                                 scoring ='roc_auc')\n",
    "\n",
    "\n",
    "# xgb_random.fit(X_train, y_train)   \n",
    "# xgb_random.best_params_, xgb_random.best_score_\n",
    "\n",
    "# print(xgb_random.best_params_,xgb_random.best_score_)"
   ]
  },
  {
   "cell_type": "code",
   "execution_count": 34,
   "metadata": {},
   "outputs": [
    {
     "name": "stdout",
     "output_type": "stream",
     "text": [
      "[18:29:14] WARNING: C:/Users/Administrator/workspace/xgboost-win64_release_1.4.0/src/learner.cc:1095: Starting in XGBoost 1.3.0, the default evaluation metric used with the objective 'binary:logistic' was changed from 'error' to 'logloss'. Explicitly set eval_metric if you'd like to restore the old behavior.\n",
      "[18:29:17] WARNING: C:/Users/Administrator/workspace/xgboost-win64_release_1.4.0/src/learner.cc:1095: Starting in XGBoost 1.3.0, the default evaluation metric used with the objective 'binary:logistic' was changed from 'error' to 'logloss'. Explicitly set eval_metric if you'd like to restore the old behavior.\n",
      "[18:29:20] WARNING: C:/Users/Administrator/workspace/xgboost-win64_release_1.4.0/src/learner.cc:1095: Starting in XGBoost 1.3.0, the default evaluation metric used with the objective 'binary:logistic' was changed from 'error' to 'logloss'. Explicitly set eval_metric if you'd like to restore the old behavior.\n",
      "[18:29:22] WARNING: C:/Users/Administrator/workspace/xgboost-win64_release_1.4.0/src/learner.cc:1095: Starting in XGBoost 1.3.0, the default evaluation metric used with the objective 'binary:logistic' was changed from 'error' to 'logloss'. Explicitly set eval_metric if you'd like to restore the old behavior.\n",
      "[18:29:24] WARNING: C:/Users/Administrator/workspace/xgboost-win64_release_1.4.0/src/learner.cc:1095: Starting in XGBoost 1.3.0, the default evaluation metric used with the objective 'binary:logistic' was changed from 'error' to 'logloss'. Explicitly set eval_metric if you'd like to restore the old behavior.\n",
      "[18:29:27] WARNING: C:/Users/Administrator/workspace/xgboost-win64_release_1.4.0/src/learner.cc:1095: Starting in XGBoost 1.3.0, the default evaluation metric used with the objective 'binary:logistic' was changed from 'error' to 'logloss'. Explicitly set eval_metric if you'd like to restore the old behavior.\n"
     ]
    },
    {
     "data": {
      "text/html": [
       "<div>\n",
       "<style scoped>\n",
       "    .dataframe tbody tr th:only-of-type {\n",
       "        vertical-align: middle;\n",
       "    }\n",
       "\n",
       "    .dataframe tbody tr th {\n",
       "        vertical-align: top;\n",
       "    }\n",
       "\n",
       "    .dataframe thead th {\n",
       "        text-align: right;\n",
       "    }\n",
       "</style>\n",
       "<table border=\"1\" class=\"dataframe\">\n",
       "  <thead>\n",
       "    <tr style=\"text-align: right;\">\n",
       "      <th></th>\n",
       "      <th>Model</th>\n",
       "      <th>ROC_AUC_Score</th>\n",
       "    </tr>\n",
       "  </thead>\n",
       "  <tbody>\n",
       "    <tr>\n",
       "      <th>0</th>\n",
       "      <td>Logistic Regression</td>\n",
       "      <td>0.989270</td>\n",
       "    </tr>\n",
       "    <tr>\n",
       "      <th>1</th>\n",
       "      <td>Random Forest</td>\n",
       "      <td>0.999987</td>\n",
       "    </tr>\n",
       "    <tr>\n",
       "      <th>2</th>\n",
       "      <td>XGBoost</td>\n",
       "      <td>0.985101</td>\n",
       "    </tr>\n",
       "  </tbody>\n",
       "</table>\n",
       "</div>"
      ],
      "text/plain": [
       "                 Model  ROC_AUC_Score\n",
       "0  Logistic Regression       0.989270\n",
       "1        Random Forest       0.999987\n",
       "2              XGBoost       0.985101"
      ]
     },
     "execution_count": 34,
     "metadata": {},
     "output_type": "execute_result"
    }
   ],
   "source": [
    "# XGBoost evaluation\n",
    "clf_xgb = XGBClassifier(n_estimators= n_estimators,gamma= 0.1,learning_rate=learning_rate,max_depth= max_depth,\\\n",
    "                   subsample=subsample,\\\n",
    "                   colsample_bytree=colsample_bytree,\\\n",
    "                   scale_pos_weight=1)\n",
    "clf_xgb.fit(X_train , y_train)\n",
    "scores = cross_val_score(clf_xgb , X_train , y_train , cv = 5 , scoring = \"roc_auc\")\n",
    "roc_auc_xgb = np.mean(scores)\n",
    "performance('XGBoost' , roc_auc_xgb)"
   ]
  },
  {
   "cell_type": "code",
   "execution_count": 35,
   "metadata": {},
   "outputs": [
    {
     "name": "stdout",
     "output_type": "stream",
     "text": [
      "Precision:0.983\n",
      "Recall:0.911\n",
      "F1 score:0.946\n"
     ]
    },
    {
     "data": {
      "text/html": [
       "<div>\n",
       "<style scoped>\n",
       "    .dataframe tbody tr th:only-of-type {\n",
       "        vertical-align: middle;\n",
       "    }\n",
       "\n",
       "    .dataframe tbody tr th {\n",
       "        vertical-align: top;\n",
       "    }\n",
       "\n",
       "    .dataframe thead th {\n",
       "        text-align: right;\n",
       "    }\n",
       "</style>\n",
       "<table border=\"1\" class=\"dataframe\">\n",
       "  <thead>\n",
       "    <tr style=\"text-align: right;\">\n",
       "      <th></th>\n",
       "      <th>Precision</th>\n",
       "      <th>Recall</th>\n",
       "      <th>F1_Score</th>\n",
       "    </tr>\n",
       "  </thead>\n",
       "  <tbody>\n",
       "    <tr>\n",
       "      <th>0</th>\n",
       "      <td>0.975913</td>\n",
       "      <td>0.927185</td>\n",
       "      <td>0.950925</td>\n",
       "    </tr>\n",
       "    <tr>\n",
       "      <th>1</th>\n",
       "      <td>0.999612</td>\n",
       "      <td>1.000000</td>\n",
       "      <td>0.999806</td>\n",
       "    </tr>\n",
       "    <tr>\n",
       "      <th>2</th>\n",
       "      <td>0.983100</td>\n",
       "      <td>0.911248</td>\n",
       "      <td>0.945812</td>\n",
       "    </tr>\n",
       "  </tbody>\n",
       "</table>\n",
       "</div>"
      ],
      "text/plain": [
       "   Precision    Recall  F1_Score\n",
       "0   0.975913  0.927185  0.950925\n",
       "1   0.999612  1.000000  0.999806\n",
       "2   0.983100  0.911248  0.945812"
      ]
     },
     "execution_count": 35,
     "metadata": {},
     "output_type": "execute_result"
    }
   ],
   "source": [
    "get_pre_rec_f1(clf_xgb)"
   ]
  },
  {
   "cell_type": "markdown",
   "metadata": {},
   "source": [
    "## 4. ANN"
   ]
  },
  {
   "cell_type": "code",
   "execution_count": 36,
   "metadata": {},
   "outputs": [
    {
     "name": "stdout",
     "output_type": "stream",
     "text": [
      "Epoch 1/20\n",
      "7961/7961 [==============================] - 18s 2ms/step - loss: 0.0397 - accuracy: 0.9867 - val_loss: 0.0118 - val_accuracy: 0.9966\n",
      "Epoch 2/20\n",
      "7961/7961 [==============================] - 15s 2ms/step - loss: 0.0087 - accuracy: 0.9977 - val_loss: 0.0062 - val_accuracy: 0.9988\n",
      "Epoch 3/20\n",
      "7961/7961 [==============================] - 16s 2ms/step - loss: 0.0055 - accuracy: 0.9987 - val_loss: 0.0168 - val_accuracy: 0.9944\n",
      "Epoch 4/20\n",
      "7961/7961 [==============================] - 18s 2ms/step - loss: 0.0045 - accuracy: 0.9989 - val_loss: 0.0038 - val_accuracy: 0.9991\n",
      "Epoch 5/20\n",
      "7961/7961 [==============================] - 17s 2ms/step - loss: 0.0037 - accuracy: 0.9991 - val_loss: 0.0061 - val_accuracy: 0.9983\n",
      "Epoch 6/20\n",
      "7961/7961 [==============================] - 16s 2ms/step - loss: 0.0032 - accuracy: 0.9992 - val_loss: 0.0081 - val_accuracy: 0.9982\n",
      "Epoch 7/20\n",
      "7961/7961 [==============================] - 16s 2ms/step - loss: 0.0029 - accuracy: 0.9993 - val_loss: 0.0030 - val_accuracy: 0.9994\n",
      "Epoch 8/20\n",
      "7961/7961 [==============================] - 16s 2ms/step - loss: 0.0026 - accuracy: 0.9994 - val_loss: 0.0031 - val_accuracy: 0.9992\n",
      "Epoch 9/20\n",
      "7961/7961 [==============================] - 17s 2ms/step - loss: 0.0023 - accuracy: 0.9994 - val_loss: 0.0029 - val_accuracy: 0.9993\n",
      "Epoch 10/20\n",
      "7961/7961 [==============================] - 16s 2ms/step - loss: 0.0022 - accuracy: 0.9995 - val_loss: 0.0032 - val_accuracy: 0.9992\n",
      "Epoch 11/20\n",
      "7961/7961 [==============================] - 16s 2ms/step - loss: 0.0020 - accuracy: 0.9995 - val_loss: 0.0032 - val_accuracy: 0.9993\n",
      "Epoch 12/20\n",
      "7961/7961 [==============================] - 16s 2ms/step - loss: 0.0019 - accuracy: 0.9995 - val_loss: 0.0030 - val_accuracy: 0.9993\n",
      "Epoch 13/20\n",
      "7961/7961 [==============================] - 16s 2ms/step - loss: 0.0019 - accuracy: 0.9995 - val_loss: 0.0021 - val_accuracy: 0.9996\n",
      "Epoch 14/20\n",
      "7961/7961 [==============================] - 17s 2ms/step - loss: 0.0018 - accuracy: 0.9995 - val_loss: 0.0020 - val_accuracy: 0.9996\n",
      "Epoch 15/20\n",
      "7961/7961 [==============================] - 16s 2ms/step - loss: 0.0018 - accuracy: 0.9996 - val_loss: 0.0189 - val_accuracy: 0.9951\n",
      "Epoch 16/20\n",
      "7961/7961 [==============================] - 16s 2ms/step - loss: 0.0017 - accuracy: 0.9996 - val_loss: 0.0018 - val_accuracy: 0.9997\n",
      "Epoch 17/20\n",
      "7961/7961 [==============================] - 16s 2ms/step - loss: 0.0015 - accuracy: 0.9997 - val_loss: 0.0017 - val_accuracy: 0.9997\n",
      "Epoch 18/20\n",
      "7961/7961 [==============================] - 16s 2ms/step - loss: 0.0013 - accuracy: 0.9997 - val_loss: 0.0019 - val_accuracy: 0.9996\n",
      "Epoch 19/20\n",
      "7961/7961 [==============================] - 16s 2ms/step - loss: 0.0013 - accuracy: 0.9997 - val_loss: 0.0019 - val_accuracy: 0.9996\n",
      "Epoch 20/20\n",
      "7961/7961 [==============================] - 16s 2ms/step - loss: 0.0012 - accuracy: 0.9997 - val_loss: 0.0026 - val_accuracy: 0.9994\n"
     ]
    },
    {
     "data": {
      "text/plain": [
       "<tensorflow.python.keras.callbacks.History at 0x2015e7c8430>"
      ]
     },
     "execution_count": 36,
     "metadata": {},
     "output_type": "execute_result"
    }
   ],
   "source": [
    "y_train = np.array(y_train).reshape(-1,1)\n",
    "y_test = np.array(y_test).reshape(-1,1)\n",
    "clf_ann = Sequential()\n",
    "clf_ann.add(Dense( units = 32 , activation = 'relu' , input_dim = X.shape[1]))\n",
    "clf_ann.add(Dense( units = 16 , activation = 'relu'))\n",
    "clf_ann.add(Dense( units = 1 , activation = 'sigmoid'))\n",
    "clf_ann.compile(optimizer= 'adam' , loss = 'binary_crossentropy' , metrics= ['accuracy'])\n",
    "clf_ann.fit(X_train , y_train , batch_size = 50 , epochs = 20  , validation_data= (X_test , y_test))"
   ]
  },
  {
   "cell_type": "code",
   "execution_count": 37,
   "metadata": {},
   "outputs": [
    {
     "data": {
      "text/html": [
       "<div>\n",
       "<style scoped>\n",
       "    .dataframe tbody tr th:only-of-type {\n",
       "        vertical-align: middle;\n",
       "    }\n",
       "\n",
       "    .dataframe tbody tr th {\n",
       "        vertical-align: top;\n",
       "    }\n",
       "\n",
       "    .dataframe thead th {\n",
       "        text-align: right;\n",
       "    }\n",
       "</style>\n",
       "<table border=\"1\" class=\"dataframe\">\n",
       "  <thead>\n",
       "    <tr style=\"text-align: right;\">\n",
       "      <th></th>\n",
       "      <th>Model</th>\n",
       "      <th>ROC_AUC_Score</th>\n",
       "    </tr>\n",
       "  </thead>\n",
       "  <tbody>\n",
       "    <tr>\n",
       "      <th>0</th>\n",
       "      <td>Logistic Regression</td>\n",
       "      <td>0.989270</td>\n",
       "    </tr>\n",
       "    <tr>\n",
       "      <th>1</th>\n",
       "      <td>Random Forest</td>\n",
       "      <td>0.999987</td>\n",
       "    </tr>\n",
       "    <tr>\n",
       "      <th>2</th>\n",
       "      <td>XGBoost</td>\n",
       "      <td>0.985101</td>\n",
       "    </tr>\n",
       "    <tr>\n",
       "      <th>3</th>\n",
       "      <td>Artificial Neural Network</td>\n",
       "      <td>0.999430</td>\n",
       "    </tr>\n",
       "  </tbody>\n",
       "</table>\n",
       "</div>"
      ],
      "text/plain": [
       "                       Model  ROC_AUC_Score\n",
       "0        Logistic Regression       0.989270\n",
       "1              Random Forest       0.999987\n",
       "2                    XGBoost       0.985101\n",
       "3  Artificial Neural Network       0.999430"
      ]
     },
     "execution_count": 37,
     "metadata": {},
     "output_type": "execute_result"
    }
   ],
   "source": [
    "# Calculating ROC_AUC score\n",
    "\n",
    "proba = clf_ann.predict_proba(X_test)\n",
    "y_pred_ann = (proba > 0.5)\n",
    "roc_auc_ann = roc_auc_score(y_test, y_pred_ann)\n",
    "performance('Artificial Neural Network', roc_auc_ann)"
   ]
  },
  {
   "cell_type": "code",
   "execution_count": 38,
   "metadata": {},
   "outputs": [
    {
     "name": "stdout",
     "output_type": "stream",
     "text": [
      "ANN model \n",
      " Precision = 1.000\n",
      "Recall = 0.999\n",
      "F1 Score = 0.999\n"
     ]
    }
   ],
   "source": [
    "# Calculating precision , recall and F1 score\n",
    "\n",
    "tp , fp, fn , tn = confusion_matrix(y_pred_ann , y_test).ravel()\n",
    "\n",
    "precision = tp / (tp+fp)\n",
    "\n",
    "recall = tp / (tp + fn)\n",
    "\n",
    "F1_score = 2 * ((precision*recall)/(precision+recall))\n",
    "\n",
    "print('ANN model \\n Precision = %.3f'%precision)\n",
    "print('Recall = %.3f'%recall)\n",
    "print('F1 Score = %.3f'%F1_score)"
   ]
  },
  {
   "cell_type": "markdown",
   "metadata": {},
   "source": [
    "## 5. Naive Bayes"
   ]
  },
  {
   "cell_type": "code",
   "execution_count": 39,
   "metadata": {},
   "outputs": [],
   "source": [
    "clf_gnb = GaussianNB()"
   ]
  },
  {
   "cell_type": "code",
   "execution_count": 40,
   "metadata": {},
   "outputs": [
    {
     "data": {
      "text/plain": [
       "GaussianNB()"
      ]
     },
     "execution_count": 40,
     "metadata": {},
     "output_type": "execute_result"
    }
   ],
   "source": [
    "clf_gnb.fit(X_train , y_train)"
   ]
  },
  {
   "cell_type": "code",
   "execution_count": 41,
   "metadata": {},
   "outputs": [
    {
     "data": {
      "text/html": [
       "<div>\n",
       "<style scoped>\n",
       "    .dataframe tbody tr th:only-of-type {\n",
       "        vertical-align: middle;\n",
       "    }\n",
       "\n",
       "    .dataframe tbody tr th {\n",
       "        vertical-align: top;\n",
       "    }\n",
       "\n",
       "    .dataframe thead th {\n",
       "        text-align: right;\n",
       "    }\n",
       "</style>\n",
       "<table border=\"1\" class=\"dataframe\">\n",
       "  <thead>\n",
       "    <tr style=\"text-align: right;\">\n",
       "      <th></th>\n",
       "      <th>Model</th>\n",
       "      <th>ROC_AUC_Score</th>\n",
       "    </tr>\n",
       "  </thead>\n",
       "  <tbody>\n",
       "    <tr>\n",
       "      <th>0</th>\n",
       "      <td>Logistic Regression</td>\n",
       "      <td>0.989270</td>\n",
       "    </tr>\n",
       "    <tr>\n",
       "      <th>1</th>\n",
       "      <td>Random Forest</td>\n",
       "      <td>0.999987</td>\n",
       "    </tr>\n",
       "    <tr>\n",
       "      <th>2</th>\n",
       "      <td>XGBoost</td>\n",
       "      <td>0.985101</td>\n",
       "    </tr>\n",
       "    <tr>\n",
       "      <th>3</th>\n",
       "      <td>Artificial Neural Network</td>\n",
       "      <td>0.999430</td>\n",
       "    </tr>\n",
       "    <tr>\n",
       "      <th>4</th>\n",
       "      <td>Gaussian NB</td>\n",
       "      <td>0.950356</td>\n",
       "    </tr>\n",
       "  </tbody>\n",
       "</table>\n",
       "</div>"
      ],
      "text/plain": [
       "                       Model  ROC_AUC_Score\n",
       "0        Logistic Regression       0.989270\n",
       "1              Random Forest       0.999987\n",
       "2                    XGBoost       0.985101\n",
       "3  Artificial Neural Network       0.999430\n",
       "4                Gaussian NB       0.950356"
      ]
     },
     "execution_count": 41,
     "metadata": {},
     "output_type": "execute_result"
    }
   ],
   "source": [
    "scores = cross_val_score(clf_gnb , X_train , y_train , cv = 5 , scoring = \"roc_auc\")\n",
    "roc_auc_gnb = np.mean(scores)\n",
    "performance('Gaussian NB' , roc_auc_gnb)"
   ]
  },
  {
   "cell_type": "code",
   "execution_count": 42,
   "metadata": {},
   "outputs": [
    {
     "name": "stdout",
     "output_type": "stream",
     "text": [
      "Precision:0.974\n",
      "Recall:0.869\n",
      "F1 score:0.919\n"
     ]
    }
   ],
   "source": [
    "evaluation_df = get_pre_rec_f1(clf_gnb)"
   ]
  },
  {
   "cell_type": "markdown",
   "metadata": {},
   "source": [
    "## Model Evaluation"
   ]
  },
  {
   "cell_type": "code",
   "execution_count": 43,
   "metadata": {},
   "outputs": [
    {
     "data": {
      "image/png": "[encoded data removed]",
      "text/plain": [
       "<Figure size 720x360 with 1 Axes>"
      ]
     },
     "metadata": {
      "needs_background": "light"
     },
     "output_type": "display_data"
    }
   ],
   "source": [
    "# Plot ROC_AUC curve of 3 models\n",
    " \n",
    "fig,ax=plt.subplots(figsize=(10,5))\n",
    "\n",
    "plot_roc_curve(clf_lr, X_test, y_test,ax=ax, color=\"blue\",label='Logistic Regression')\n",
    "plot_roc_curve(clf_rf, X_test, y_test,ax=ax, color=\"black\",label='Random Forest')\n",
    "plot_roc_curve(clf_xgb, X_test, y_test,ax=ax, color=\"red\",label='XGBoost')\n",
    "plot_roc_curve(clf_gnb , X_test , y_test , ax=ax , color = 'yellow' , label = 'Gaussian NB')\n",
    "#plot_roc_curve(model , X_test , y_test , ax = ax , color = 'green' , label = 'ANN')\n",
    "\n",
    "# ROC_AUC curve for ANN\n",
    "proba = clf_ann.predict_proba(X_test)\n",
    "fpr1, tpr1, thresh1 = roc_curve(y_test, proba, pos_label=1)\n",
    "#plt.subplot(ax)\n",
    "plt.plot(fpr1, tpr1,color='green', label='ANN')\n",
    "# x label\n",
    "plt.xlabel('False Positive Rate')\n",
    "# y label\n",
    "plt.ylabel('True Positive rate')\n",
    "plt.legend(loc = 'best')\n",
    "plt.title('ROC/AUC of models')\n",
    "plt.grid()\n",
    "#plt.savefig('Comparison_of_models')"
   ]
  },
  {
   "cell_type": "code",
   "execution_count": 44,
   "metadata": {},
   "outputs": [],
   "source": [
    "from sklearn.metrics import plot_precision_recall_curve , precision_recall_curve"
   ]
  },
  {
   "cell_type": "code",
   "execution_count": 45,
   "metadata": {},
   "outputs": [
    {
     "data": {
      "image/png": "[encoded data removed]",
      "text/plain": [
       "<Figure size 720x360 with 1 Axes>"
      ]
     },
     "metadata": {
      "needs_background": "light"
     },
     "output_type": "display_data"
    }
   ],
   "source": [
    "# Compare 3 models' Precision_recall curves\n",
    "\n",
    "fig,ax=plt.subplots(figsize=(10,5))\n",
    "\n",
    "plot_precision_recall_curve(clf_lr, X_test, y_test, ax=ax,color=\"blue\",label='Logistic Regression')\n",
    "plot_precision_recall_curve(clf_rf, X_test, y_test, ax=ax,color=\"black\",label='Random Forest')\n",
    "plot_precision_recall_curve(clf_xgb, X_test, y_test, ax=ax,color=\"red\",label='XGBoost')\n",
    "plot_precision_recall_curve(clf_gnb , X_test , y_test , ax = ax , color = 'yellow' , label = 'Gaussian NB')\n",
    "\n",
    "# Precision-Recall curve  for ANN\n",
    "proba = clf_ann.predict_proba(X_test)\n",
    "ann_precision, ann_recall, _ = precision_recall_curve(y_test, proba)\n",
    "ann_f1, ann_auc = 1, 0.999624\n",
    "plt.plot(ann_recall, ann_precision, label='ANN' , color = 'green')\n",
    "\n",
    "\n",
    "\n",
    "plt.title('Precision_Recall of models')\n",
    "plt.grid()\n",
    "plt.xlabel('Recall')\n",
    "plt.ylabel('Precision')\n",
    "# show the legend\n",
    "plt.legend()\n",
    "# show the plot\n",
    "plt.show()\n",
    "#plt.savefig('PR model_comparison')"
   ]
  },
  {
   "cell_type": "code",
   "execution_count": 48,
   "metadata": {},
   "outputs": [
    {
     "data": {
      "text/plain": [
       "Text(0.5, 1.0, 'ANN')"
      ]
     },
     "execution_count": 48,
     "metadata": {},
     "output_type": "execute_result"
    },
    {
     "data": {
      "image/png": "[encoded data removed]",
      "text/plain": [
       "<Figure size 720x1080 with 8 Axes>"
      ]
     },
     "metadata": {
      "needs_background": "light"
     },
     "output_type": "display_data"
    },
    {
     "data": {
      "image/png": "[encoded data removed]",
      "text/plain": [
       "<Figure size 324x252 with 2 Axes>"
      ]
     },
     "metadata": {
      "needs_background": "light"
     },
     "output_type": "display_data"
    }
   ],
   "source": [
    "# Plot confusion matrix of 3 models\n",
    "\n",
    "fig,ax=plt.subplots(4,1, figsize=(10,15))\n",
    "\n",
    "plot_confusion_matrix(clf_lr, X_test, y_test, ax = ax[0], values_format=\"d\")\n",
    "ax[0].set_title(\"Logistic Regression\")\n",
    "\n",
    "plot_confusion_matrix(clf_rf, X_test, y_test, ax = ax[1], values_format=\"d\")\n",
    "ax[1].set_title(\"Random Forest\")\n",
    "\n",
    "plot_confusion_matrix(clf_xgb, X_test, y_test, ax = ax[2], values_format=\"d\")\n",
    "ax[2].set_title(\"XGBoost\")\n",
    "\n",
    "plot_confusion_matrix(clf_gnb , X_train , y_train , ax = ax[3] , values_format = \"d\")\n",
    "ax[3].set_title(\"Gaussian NB\")\n",
    "\n",
    "plt.figure(figsize = (4.5,3.5))\n",
    "sns.heatmap(confusion_matrix(y_pred_ann , y_test) , annot = True , cmap = 'viridis' , fmt = 'g')\n",
    "plt.xlabel('Predcited label')\n",
    "plt.ylabel('True label')\n",
    "plt.title(\"ANN\")"
   ]
  },
  {
   "cell_type": "code",
   "execution_count": null,
   "metadata": {},
   "outputs": [],
   "source": []
  }
 ],
 "metadata": {
  "accelerator": "GPU",
  "colab": {
   "collapsed_sections": [],
   "name": "EuropeanCreditDefault.ipynb",
   "provenance": [],
   "toc_visible": true
  },
  "kernelspec": {
   "display_name": "Python 3",
   "language": "python",
   "name": "python3"
  },
  "language_info": {
   "codemirror_mode": {
    "name": "ipython",
    "version": 3
   },
   "file_extension": ".py",
   "mimetype": "text/x-python",
   "name": "python",
   "nbconvert_exporter": "python",
   "pygments_lexer": "ipython3",
   "version": "3.8.3"
  }
 },
 "nbformat": 4,
 "nbformat_minor": 1
}
